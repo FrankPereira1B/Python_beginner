{
 "cells": [
  {
   "cell_type": "code",
   "execution_count": 1,
   "id": "53755a0b-a1bf-4f45-b884-49e887bfa4e1",
   "metadata": {},
   "outputs": [],
   "source": [
    "import pandas as pd\n",
    "import numpy as np"
   ]
  },
  {
   "cell_type": "code",
   "execution_count": 2,
   "id": "8d22ee27-f6a2-4989-8006-3c2ba05b47e5",
   "metadata": {},
   "outputs": [
    {
     "name": "stdout",
     "output_type": "stream",
     "text": [
      "The youngest child is Linus\n"
     ]
    }
   ],
   "source": [
    "def my_function(*kids):\n",
    "    print(\"The youngest child is \" + kids[2])\n",
    "my_function(\"Emil\", \"Tobias\", \"Linus\")"
   ]
  },
  {
   "cell_type": "code",
   "execution_count": 6,
   "id": "cedadeb2-d772-41a3-aebd-4ce2dcdb0014",
   "metadata": {},
   "outputs": [
    {
     "name": "stdout",
     "output_type": "stream",
     "text": [
      "Type: <class 'tuple'>\n",
      "First Argument: Emil\n",
      "Second Argument: Tobais\n",
      "All arguments: ('Emil', 'Tobais', 'Linus')\n"
     ]
    }
   ],
   "source": [
    "def my_function(*args):\n",
    "    print(\"Type:\", type(args))\n",
    "    print(\"First Argument:\", args[0])\n",
    "    print(\"Second Argument:\", args[1])\n",
    "    print(\"All arguments:\", args)\n",
    "my_function(\"Emil\", \"Tobais\", \"Linus\")"
   ]
  },
  {
   "cell_type": "code",
   "execution_count": 7,
   "id": "eeb5b4e4-51c1-48f1-8124-88d3024c3c27",
   "metadata": {},
   "outputs": [
    {
     "name": "stdout",
     "output_type": "stream",
     "text": [
      "Hello Emil\n",
      "Hello Tobias\n",
      "Hello Linus\n"
     ]
    }
   ],
   "source": [
    "def my_function(greeting, *names):\n",
    "    for name in names:\n",
    "        print(greeting, name)\n",
    "my_function(\"Hello\", \"Emil\", \"Tobias\", \"Linus\")"
   ]
  },
  {
   "cell_type": "code",
   "execution_count": 9,
   "id": "54974437-7163-4c35-aa9a-b227034dd653",
   "metadata": {},
   "outputs": [
    {
     "name": "stdout",
     "output_type": "stream",
     "text": [
      "A B\n",
      "A C\n",
      "A D\n"
     ]
    }
   ],
   "source": [
    "def my_function(greeting, *names):\n",
    "    for name in names:\n",
    "        print(greeting, name)\n",
    "my_function(\"A\", \"B\", \"C\", \"D\")"
   ]
  },
  {
   "cell_type": "code",
   "execution_count": 13,
   "id": "938c7226-8322-4c66-a2a3-cdd7f26ab67c",
   "metadata": {},
   "outputs": [
    {
     "name": "stdout",
     "output_type": "stream",
     "text": [
      "6\n",
      "60\n",
      "5\n"
     ]
    }
   ],
   "source": [
    "def my_function(*numbers):\n",
    "    total = 0\n",
    "    for num in numbers:\n",
    "        total += num\n",
    "    return total\n",
    "\n",
    "print(my_function(1, 2, 3,))\n",
    "print(my_function(10,20,30))\n",
    "print(my_function(5))"
   ]
  },
  {
   "cell_type": "code",
   "execution_count": 14,
   "id": "ce1f0b26-af66-4b1f-99c7-7c80292fb2c7",
   "metadata": {},
   "outputs": [
    {
     "name": "stdout",
     "output_type": "stream",
     "text": [
      "9\n"
     ]
    }
   ],
   "source": [
    "def my_function(*numbers):\n",
    "    if len(numbers) == 0:\n",
    "        return None\n",
    "    max_num = numbers[0]\n",
    "    for num in numbers:\n",
    "        if num > max_num:\n",
    "            max_num = num\n",
    "    return max_num\n",
    "print(my_function(3,7,2,9,1))"
   ]
  },
  {
   "cell_type": "code",
   "execution_count": 22,
   "id": "5b820f01-ce8c-4c0b-aad3-5cb8568f74ac",
   "metadata": {},
   "outputs": [],
   "source": [
    "numbers =list((3,7,2,9,1))"
   ]
  },
  {
   "cell_type": "code",
   "execution_count": 23,
   "id": "055f8db3-8efc-4644-8d94-8962f23938c0",
   "metadata": {},
   "outputs": [
    {
     "data": {
      "text/plain": [
       "[3, 7, 2, 9, 1]"
      ]
     },
     "execution_count": 23,
     "metadata": {},
     "output_type": "execute_result"
    }
   ],
   "source": [
    "numbers"
   ]
  },
  {
   "cell_type": "code",
   "execution_count": 24,
   "id": "61fa6ef2-72e6-45d8-bfb3-5231141b7ad0",
   "metadata": {},
   "outputs": [],
   "source": [
    "max_num = numbers[0]"
   ]
  },
  {
   "cell_type": "code",
   "execution_count": 25,
   "id": "a6bb0ffe-5c46-4f52-9152-37e9910de3aa",
   "metadata": {},
   "outputs": [
    {
     "data": {
      "text/plain": [
       "3"
      ]
     },
     "execution_count": 25,
     "metadata": {},
     "output_type": "execute_result"
    }
   ],
   "source": [
    "max_num "
   ]
  },
  {
   "cell_type": "code",
   "execution_count": 28,
   "id": "3e000707-3c5b-4f0f-8a8c-78ffe9b3692b",
   "metadata": {},
   "outputs": [
    {
     "name": "stdout",
     "output_type": "stream",
     "text": [
      "His last name is res\n"
     ]
    }
   ],
   "source": [
    "def my_function(**kid):\n",
    "    print(\"His last name is\" + kid[\"lname\"])\n",
    "my_function(fname = \"Tobias\", lname = \" res\")   "
   ]
  },
  {
   "cell_type": "code",
   "execution_count": 29,
   "id": "6111e424-297c-49e6-bf93-0fac7247af59",
   "metadata": {},
   "outputs": [
    {
     "name": "stdout",
     "output_type": "stream",
     "text": [
      "Type: <class 'dict'>\n",
      "Name: Tobias\n",
      "Age: 30\n",
      "All data: {'name': 'Tobias', 'age': 30, 'city': 'Bergen'}\n"
     ]
    }
   ],
   "source": [
    "def my_function(**myvar):\n",
    "    print(\"Type:\", type(myvar))\n",
    "    print(\"Name:\", myvar[\"name\"])\n",
    "    print(\"Age:\", myvar[\"age\"])\n",
    "    print(\"All data:\", myvar)\n",
    "my_function(name= \"Tobias\", age = 30, city = \"Bergen\")"
   ]
  },
  {
   "cell_type": "code",
   "execution_count": 31,
   "id": "131114d9-e09b-4556-b65a-9a3c76f4313f",
   "metadata": {},
   "outputs": [
    {
     "name": "stdout",
     "output_type": "stream",
     "text": [
      "Username: emil123\n",
      "Additional details:\n",
      "  age: 25\n",
      "  city: oslo\n",
      "  hobby: coding\n"
     ]
    }
   ],
   "source": [
    "def my_function(username, **details):\n",
    "    print(\"Username:\", username)\n",
    "    print(\"Additional details:\")\n",
    "    for key, value in details.items():\n",
    "        print(\" \", key + \":\", value)\n",
    "my_function(\"emil123\", age=25, city=\"oslo\", hobby = \"coding\")       "
   ]
  },
  {
   "cell_type": "code",
   "execution_count": 33,
   "id": "e88d8000-1a47-4549-a99f-3cc8088ed427",
   "metadata": {},
   "outputs": [
    {
     "name": "stdout",
     "output_type": "stream",
     "text": [
      "Title: User Info\n",
      "Positional arguments: ('Emil', 'Tobias')\n",
      "Keywords arguments: {'age': 25, 'city': 'Oslo'}\n"
     ]
    }
   ],
   "source": [
    "def my_function(title, *args, **kwargs):\n",
    "    print(\"Title:\", title)\n",
    "    print(\"Positional arguments:\", args)\n",
    "    print(\"Keywords arguments:\", kwargs)\n",
    "my_function(\"User Info\", \"Emil\", \"Tobias\", age = 25, city = \"Oslo\")"
   ]
  },
  {
   "cell_type": "code",
   "execution_count": 34,
   "id": "6d9d4ec0-acd8-4e32-88f5-46e56588ed63",
   "metadata": {},
   "outputs": [],
   "source": [
    "def my_function(a, b, c):\n",
    "    return a + b + c"
   ]
  },
  {
   "cell_type": "code",
   "execution_count": 35,
   "id": "c54ade21-5cdc-4962-8401-8e19fb87ffc0",
   "metadata": {},
   "outputs": [],
   "source": [
    "numbers = [1, 2, 3]\n",
    "result = my_function(*numbers)"
   ]
  },
  {
   "cell_type": "code",
   "execution_count": 36,
   "id": "3f592510-ac54-4f27-9315-8e9e93df1272",
   "metadata": {},
   "outputs": [
    {
     "data": {
      "text/plain": [
       "6"
      ]
     },
     "execution_count": 36,
     "metadata": {},
     "output_type": "execute_result"
    }
   ],
   "source": [
    "result"
   ]
  },
  {
   "cell_type": "code",
   "execution_count": 39,
   "id": "3e0aaa36-8603-4539-9925-85324e08fc37",
   "metadata": {},
   "outputs": [],
   "source": [
    "def my_function(fname, lname):\n",
    "    print(\"Hello\", fname, lname)\n",
    "person = {\"fname\" : \"Emil\", \"lname\" : \"res\"}"
   ]
  },
  {
   "cell_type": "code",
   "execution_count": 40,
   "id": "2161d268-5e53-4cc6-8742-a7920d52eebd",
   "metadata": {},
   "outputs": [
    {
     "name": "stdout",
     "output_type": "stream",
     "text": [
      "Hello Emil res\n"
     ]
    }
   ],
   "source": [
    "my_function(**person)"
   ]
  },
  {
   "cell_type": "code",
   "execution_count": 41,
   "id": "0e8ded98-06b2-4cd2-8d4f-a5db0a849e39",
   "metadata": {},
   "outputs": [],
   "source": [
    "def myfunc():\n",
    "    x = 300\n",
    "    print(x)"
   ]
  },
  {
   "cell_type": "code",
   "execution_count": 42,
   "id": "d0cba79d-37f6-4a1c-b07e-fcfd4cebe044",
   "metadata": {},
   "outputs": [
    {
     "name": "stdout",
     "output_type": "stream",
     "text": [
      "300\n"
     ]
    }
   ],
   "source": [
    "myfunc()"
   ]
  },
  {
   "cell_type": "code",
   "execution_count": 46,
   "id": "7cee6f5d-2cbf-4d69-adee-32f28eea817a",
   "metadata": {},
   "outputs": [
    {
     "name": "stdout",
     "output_type": "stream",
     "text": [
      "300\n"
     ]
    }
   ],
   "source": [
    "def myfunc():\n",
    "    x = 300\n",
    "    def myinnerfunc():\n",
    "        print(x)\n",
    "    myinnerfunc()\n",
    "\n",
    "myfunc()"
   ]
  },
  {
   "cell_type": "code",
   "execution_count": 47,
   "id": "5779d65c-3442-4685-bd79-89dbc9789a4b",
   "metadata": {},
   "outputs": [
    {
     "name": "stdout",
     "output_type": "stream",
     "text": [
      "hello linus\n"
     ]
    }
   ],
   "source": [
    "def changecase(n):\n",
    "    def changecase(func):\n",
    "        def myinner():\n",
    "            if n == 1:\n",
    "                a = func().lower()\n",
    "            else:\n",
    "                a = func().upper()\n",
    "            return a\n",
    "        return myinner\n",
    "    return changecase\n",
    "\n",
    "@changecase(1)\n",
    "def myfunction():\n",
    "    return \"Hello Linus\"\n",
    "print(myfunction())"
   ]
  },
  {
   "cell_type": "code",
   "execution_count": 48,
   "id": "cde224b5-8544-42ca-915b-14c93ad4d8a6",
   "metadata": {},
   "outputs": [
    {
     "name": "stdout",
     "output_type": "stream",
     "text": [
      "HELLO TOBIAS HAVE A GOOD DAY!\n"
     ]
    }
   ],
   "source": [
    "def changecase(func):\n",
    "    def myinner():\n",
    "        return func().upper()\n",
    "    return myinner\n",
    "\n",
    "def addgreeting(func):\n",
    "    def myinner():\n",
    "        return \"Hello \" + func() + \" Have a good day!\"\n",
    "    return myinner\n",
    "\n",
    "@changecase\n",
    "@addgreeting\n",
    "def myfunction():\n",
    "    return \"Tobias\"\n",
    "print(myfunction())"
   ]
  },
  {
   "cell_type": "code",
   "execution_count": 50,
   "id": "3d5d7b60-3606-46b0-9370-e38b802102e6",
   "metadata": {},
   "outputs": [
    {
     "ename": "AttributeError",
     "evalue": "'function' object has no attribute '___name__'",
     "output_type": "error",
     "traceback": [
      "\u001b[1;31m---------------------------------------------------------------------------\u001b[0m",
      "\u001b[1;31mAttributeError\u001b[0m                            Traceback (most recent call last)",
      "Cell \u001b[1;32mIn[50], line 4\u001b[0m\n\u001b[0;32m      1\u001b[0m \u001b[38;5;28;01mdef\u001b[39;00m \u001b[38;5;21mmyfunction\u001b[39m():\n\u001b[0;32m      2\u001b[0m     \u001b[38;5;28;01mreturn\u001b[39;00m \u001b[38;5;124m\"\u001b[39m\u001b[38;5;124mHave a great day!\u001b[39m\u001b[38;5;124m\"\u001b[39m\n\u001b[1;32m----> 4\u001b[0m \u001b[38;5;28mprint\u001b[39m(\u001b[43mmyfunction\u001b[49m\u001b[38;5;241;43m.\u001b[39;49m\u001b[43m___name__\u001b[49m)\n",
      "\u001b[1;31mAttributeError\u001b[0m: 'function' object has no attribute '___name__'"
     ]
    }
   ],
   "source": [
    "def myfunction():\n",
    "    return \"Have a great day!\"\n",
    "\n",
    "print(myfunction.___name__)\n",
    "      "
   ]
  },
  {
   "cell_type": "code",
   "execution_count": null,
   "id": "d088cc01-12c0-4cde-86b9-8be8d9824b0f",
   "metadata": {},
   "outputs": [],
   "source": []
  },
  {
   "cell_type": "code",
   "execution_count": null,
   "id": "b865f2ff-5e81-4a1f-95d5-98a58469900c",
   "metadata": {},
   "outputs": [],
   "source": []
  },
  {
   "cell_type": "code",
   "execution_count": null,
   "id": "67173142-5ed2-48e4-a73f-72c8d595a4aa",
   "metadata": {},
   "outputs": [],
   "source": []
  },
  {
   "cell_type": "code",
   "execution_count": null,
   "id": "e656ffd5-2f8c-4266-8540-9e3706b73ecb",
   "metadata": {},
   "outputs": [],
   "source": []
  },
  {
   "cell_type": "code",
   "execution_count": null,
   "id": "b6f9c2ca-ab3b-410f-978e-c59a23f42a48",
   "metadata": {},
   "outputs": [],
   "source": []
  },
  {
   "cell_type": "code",
   "execution_count": null,
   "id": "60227c0b-266f-4d48-8613-1aa5a8283ace",
   "metadata": {},
   "outputs": [],
   "source": []
  }
 ],
 "metadata": {
  "kernelspec": {
   "display_name": "Python 3 (ipykernel)",
   "language": "python",
   "name": "python3"
  },
  "language_info": {
   "codemirror_mode": {
    "name": "ipython",
    "version": 3
   },
   "file_extension": ".py",
   "mimetype": "text/x-python",
   "name": "python",
   "nbconvert_exporter": "python",
   "pygments_lexer": "ipython3",
   "version": "3.8.0"
  }
 },
 "nbformat": 4,
 "nbformat_minor": 5
}
