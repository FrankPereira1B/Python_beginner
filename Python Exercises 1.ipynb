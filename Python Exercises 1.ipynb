{
 "cells": [
  {
   "cell_type": "code",
   "execution_count": 1,
   "id": "53755a0b-a1bf-4f45-b884-49e887bfa4e1",
   "metadata": {},
   "outputs": [],
   "source": [
    "import pandas as pd\n",
    "import numpy as np"
   ]
  },
  {
   "cell_type": "code",
   "execution_count": 2,
   "id": "e7028b15-7ff9-4e85-bf6b-0070b63c05e9",
   "metadata": {},
   "outputs": [],
   "source": [
    "thisdict = {\n",
    "    \"brand\": \"Ford\",\n",
    "    \"model\": \"mustang\",\n",
    "    \"year\": 1964\n",
    "}\n",
    "thisdict[\"color\"] = \"red\""
   ]
  },
  {
   "cell_type": "code",
   "execution_count": 3,
   "id": "72774eb1-b62a-4280-836a-8bdffdd728d9",
   "metadata": {},
   "outputs": [
    {
     "name": "stdout",
     "output_type": "stream",
     "text": [
      "{'brand': 'Ford', 'model': 'mustang', 'year': 1964, 'color': 'red'}\n"
     ]
    }
   ],
   "source": [
    "print(thisdict)"
   ]
  },
  {
   "cell_type": "code",
   "execution_count": 4,
   "id": "1d0ed41e-63ae-4efc-a93f-8976e921ad50",
   "metadata": {},
   "outputs": [],
   "source": [
    "thisdict.update({\"color\":\"red\"})"
   ]
  },
  {
   "cell_type": "code",
   "execution_count": 5,
   "id": "fe544174-ae7c-4cfb-b40e-5b9fd57279b1",
   "metadata": {},
   "outputs": [
    {
     "data": {
      "text/plain": [
       "{'brand': 'Ford', 'model': 'mustang', 'year': 1964, 'color': 'red'}"
      ]
     },
     "execution_count": 5,
     "metadata": {},
     "output_type": "execute_result"
    }
   ],
   "source": [
    "thisdict"
   ]
  },
  {
   "cell_type": "code",
   "execution_count": 6,
   "id": "d68ce215-b451-4580-8b4f-6f901a78588a",
   "metadata": {},
   "outputs": [
    {
     "data": {
      "text/plain": [
       "'mustang'"
      ]
     },
     "execution_count": 6,
     "metadata": {},
     "output_type": "execute_result"
    }
   ],
   "source": [
    "thisdict.pop(\"model\")"
   ]
  },
  {
   "cell_type": "code",
   "execution_count": 7,
   "id": "b7f7eaf7-9e0f-4d4d-ac6b-61da872e816b",
   "metadata": {},
   "outputs": [
    {
     "data": {
      "text/plain": [
       "('color', 'red')"
      ]
     },
     "execution_count": 7,
     "metadata": {},
     "output_type": "execute_result"
    }
   ],
   "source": [
    "thisdict.popitem()"
   ]
  },
  {
   "cell_type": "code",
   "execution_count": 9,
   "id": "24af1c30-eb21-42d6-b695-9b7da3aa5abb",
   "metadata": {},
   "outputs": [],
   "source": [
    "del thisdict['brand']"
   ]
  },
  {
   "cell_type": "code",
   "execution_count": 10,
   "id": "67dadb8b-3c3b-4e60-b4a8-31ee7edea541",
   "metadata": {},
   "outputs": [
    {
     "data": {
      "text/plain": [
       "{'year': 1964}"
      ]
     },
     "execution_count": 10,
     "metadata": {},
     "output_type": "execute_result"
    }
   ],
   "source": [
    "thisdict"
   ]
  },
  {
   "cell_type": "code",
   "execution_count": 11,
   "id": "949ec0c0-8539-4c62-8223-eb756bb0e36a",
   "metadata": {},
   "outputs": [],
   "source": [
    "thisdict.clear()"
   ]
  },
  {
   "cell_type": "code",
   "execution_count": 12,
   "id": "2b0c7c00-1980-4fda-b02d-299da0822d60",
   "metadata": {},
   "outputs": [],
   "source": [
    "thisdict = {\n",
    "    \"brand\": \"Ford\",\n",
    "    \"model\": \"mustang\",\n",
    "    \"year\": 1964\n",
    "}\n",
    "thisdict[\"color\"] = \"red\""
   ]
  },
  {
   "cell_type": "code",
   "execution_count": 15,
   "id": "7b90aae4-7983-4770-a1c4-06c8a9378ead",
   "metadata": {},
   "outputs": [
    {
     "name": "stdout",
     "output_type": "stream",
     "text": [
      "brand\n",
      "model\n",
      "year\n",
      "color\n"
     ]
    }
   ],
   "source": [
    "for x in thisdict:\n",
    "    print(x)"
   ]
  },
  {
   "cell_type": "code",
   "execution_count": 19,
   "id": "d70488ce-4348-49dc-8052-8c80425c6bf5",
   "metadata": {},
   "outputs": [
    {
     "name": "stdout",
     "output_type": "stream",
     "text": [
      "Ford\n",
      "mustang\n",
      "1964\n",
      "red\n"
     ]
    }
   ],
   "source": [
    "for x in thisdict:\n",
    "    print(thisdict[x])"
   ]
  },
  {
   "cell_type": "code",
   "execution_count": 20,
   "id": "2a608423-ce86-432e-b3b1-edbcd5ca497f",
   "metadata": {},
   "outputs": [
    {
     "name": "stdout",
     "output_type": "stream",
     "text": [
      "Ford\n",
      "mustang\n",
      "1964\n",
      "red\n"
     ]
    }
   ],
   "source": [
    "for x in thisdict.values():\n",
    "    print(x)"
   ]
  },
  {
   "cell_type": "code",
   "execution_count": 21,
   "id": "53ed14ac-7710-44fa-9f39-eaadd44a86b3",
   "metadata": {},
   "outputs": [
    {
     "name": "stdout",
     "output_type": "stream",
     "text": [
      "brand\n",
      "model\n",
      "year\n",
      "color\n"
     ]
    }
   ],
   "source": [
    "for x in thisdict.keys():\n",
    "    print(x)"
   ]
  },
  {
   "cell_type": "code",
   "execution_count": 22,
   "id": "23f890bc-a16f-4857-afef-ab705cb682f2",
   "metadata": {},
   "outputs": [
    {
     "name": "stdout",
     "output_type": "stream",
     "text": [
      "brand Ford\n",
      "model mustang\n",
      "year 1964\n",
      "color red\n"
     ]
    }
   ],
   "source": [
    "for x, y in thisdict.items():\n",
    "    print(x,y)"
   ]
  },
  {
   "cell_type": "code",
   "execution_count": 23,
   "id": "e383b888-0e4c-449b-a949-747a3d21d72d",
   "metadata": {},
   "outputs": [],
   "source": [
    "mydict = thisdict.copy()"
   ]
  },
  {
   "cell_type": "code",
   "execution_count": 24,
   "id": "601adb06-732e-4ba8-92d8-c51b0a610edd",
   "metadata": {},
   "outputs": [
    {
     "data": {
      "text/plain": [
       "{'brand': 'Ford', 'model': 'mustang', 'year': 1964, 'color': 'red'}"
      ]
     },
     "execution_count": 24,
     "metadata": {},
     "output_type": "execute_result"
    }
   ],
   "source": [
    "mydict"
   ]
  },
  {
   "cell_type": "code",
   "execution_count": 25,
   "id": "8a67181a-438f-44b8-a7bb-fef95d2c8ad2",
   "metadata": {},
   "outputs": [],
   "source": [
    "mydict = dict(thisdict)"
   ]
  },
  {
   "cell_type": "code",
   "execution_count": 26,
   "id": "92b34e49-5a9b-45ad-81b7-a52ee2a2cac5",
   "metadata": {},
   "outputs": [
    {
     "data": {
      "text/plain": [
       "{'brand': 'Ford', 'model': 'mustang', 'year': 1964, 'color': 'red'}"
      ]
     },
     "execution_count": 26,
     "metadata": {},
     "output_type": "execute_result"
    }
   ],
   "source": [
    "mydict"
   ]
  },
  {
   "cell_type": "code",
   "execution_count": 29,
   "id": "a79a61d2-5612-4409-8a26-46dd7a4e3b6a",
   "metadata": {},
   "outputs": [],
   "source": [
    "myfamily = {\n",
    "    \"child1\": {\n",
    "        \"name\": \"Emil\",\n",
    "        \"year\": 2004\n",
    "    },\n",
    "    \"child2\": {\n",
    "        \"name\": \"Tobias\",\n",
    "        \"year\": 2007\n",
    "    },\n",
    "    \"child3\": {\n",
    "        \"name\": \"Linus\",\n",
    "        \"year\": 2011\n",
    "    }\n",
    "}"
   ]
  },
  {
   "cell_type": "code",
   "execution_count": 30,
   "id": "6a805a77-44ff-43bf-8bf2-94b6b91df01e",
   "metadata": {},
   "outputs": [
    {
     "data": {
      "text/plain": [
       "{'child1': {'name': 'Emil', 'year': 2004},\n",
       " 'child2': {'name': 'Tobias', 'year': 2007},\n",
       " 'child3': {'name': 'Linus', 'year': 2011}}"
      ]
     },
     "execution_count": 30,
     "metadata": {},
     "output_type": "execute_result"
    }
   ],
   "source": [
    "myfamily"
   ]
  },
  {
   "cell_type": "code",
   "execution_count": 32,
   "id": "86d9713b-6f6f-41f7-8355-3243bf8110e8",
   "metadata": {},
   "outputs": [],
   "source": [
    "child1 = {\n",
    "    \"name\": \"Emil\",\n",
    "    \"year\": 2004\n",
    "}\n",
    "child2 = {\n",
    "    \"name\": \"Tobias\",\n",
    "    \"year\": 2007\n",
    "}\n",
    "child3 = {\n",
    "    \"name\":\"Linus\",\n",
    "    \"year\": 2011\n",
    "}\n",
    "\n",
    "myfamily = {\n",
    "    \"child1\": child1,\n",
    "    \"child2\": child2,\n",
    "    \"child3\": child3\n",
    "}"
   ]
  },
  {
   "cell_type": "code",
   "execution_count": 33,
   "id": "d4bd118f-2f97-462e-93af-26bd00255c5a",
   "metadata": {},
   "outputs": [
    {
     "data": {
      "text/plain": [
       "{'child1': {'name': 'Emil', 'year': 2004},\n",
       " 'child2': {'name': 'Tobias', 'year': 2007},\n",
       " 'child3': {'name': 'Linus', 'year': 2011}}"
      ]
     },
     "execution_count": 33,
     "metadata": {},
     "output_type": "execute_result"
    }
   ],
   "source": [
    "myfamily"
   ]
  },
  {
   "cell_type": "code",
   "execution_count": 35,
   "id": "22beef72-e319-4179-84ee-bce0e1d1dbbc",
   "metadata": {},
   "outputs": [
    {
     "name": "stdout",
     "output_type": "stream",
     "text": [
      "Tobias\n"
     ]
    }
   ],
   "source": [
    "print(myfamily[\"child2\"][\"name\"])"
   ]
  },
  {
   "cell_type": "code",
   "execution_count": 39,
   "id": "d2b33188-3371-4102-8720-b9c5e98c7f45",
   "metadata": {},
   "outputs": [
    {
     "name": "stdout",
     "output_type": "stream",
     "text": [
      "child1\n",
      "name: Emil\n",
      "year: 2004\n",
      "child2\n",
      "name: Tobias\n",
      "year: 2007\n",
      "child3\n",
      "name: Linus\n",
      "year: 2011\n"
     ]
    }
   ],
   "source": [
    "for x, obj in myfamily.items():\n",
    "    print(x)\n",
    "\n",
    "    for y in obj:\n",
    "        print(y + ':', obj[y])"
   ]
  },
  {
   "cell_type": "code",
   "execution_count": 38,
   "id": "bf41f2cf-9238-4979-b0c6-270a6f343aad",
   "metadata": {},
   "outputs": [
    {
     "name": "stdout",
     "output_type": "stream",
     "text": [
      "child1\n",
      "child2\n",
      "child3\n"
     ]
    }
   ],
   "source": [
    "for y, obj in myfamily.items():\n",
    "    print(y)"
   ]
  },
  {
   "cell_type": "code",
   "execution_count": 40,
   "id": "41002584-29cf-4485-b8b6-1a1cc0db9592",
   "metadata": {},
   "outputs": [
    {
     "data": {
      "text/plain": [
       "dict_items([('child1', {'name': 'Emil', 'year': 2004}), ('child2', {'name': 'Tobias', 'year': 2007}), ('child3', {'name': 'Linus', 'year': 2011})])"
      ]
     },
     "execution_count": 40,
     "metadata": {},
     "output_type": "execute_result"
    }
   ],
   "source": [
    "myfamily.items()"
   ]
  },
  {
   "cell_type": "code",
   "execution_count": 41,
   "id": "68a0f53b-9183-499d-aadd-8f02db4c23e8",
   "metadata": {},
   "outputs": [],
   "source": [
    "x = ('key1', 'key2', 'key3')\n",
    "y = 0"
   ]
  },
  {
   "cell_type": "code",
   "execution_count": 42,
   "id": "e9f16c89-a66b-4559-b5d9-99abdd299a04",
   "metadata": {},
   "outputs": [],
   "source": [
    "thisdict = dict.fromkeys(x,y)"
   ]
  },
  {
   "cell_type": "code",
   "execution_count": 43,
   "id": "70539040-40d7-4469-92c5-fdb55bfbc2e1",
   "metadata": {},
   "outputs": [
    {
     "data": {
      "text/plain": [
       "{'key1': 0, 'key2': 0, 'key3': 0}"
      ]
     },
     "execution_count": 43,
     "metadata": {},
     "output_type": "execute_result"
    }
   ],
   "source": [
    "thisdict"
   ]
  },
  {
   "cell_type": "code",
   "execution_count": 44,
   "id": "4c5492d9-403b-446f-bbe7-170e7790ba3c",
   "metadata": {},
   "outputs": [],
   "source": [
    "car = {\n",
    "  \"brand\": \"Ford\",\n",
    "  \"model\": \"Mustang\",\n",
    "  \"year\": 1964\n",
    "}\n"
   ]
  },
  {
   "cell_type": "code",
   "execution_count": 45,
   "id": "daf5aae8-d3ff-43cc-8f17-c11d8db58190",
   "metadata": {},
   "outputs": [],
   "source": [
    "x = car.get(\"model\")"
   ]
  },
  {
   "cell_type": "code",
   "execution_count": 46,
   "id": "66ec871a-9810-414f-87f5-53a0160c59c6",
   "metadata": {},
   "outputs": [
    {
     "data": {
      "text/plain": [
       "'Mustang'"
      ]
     },
     "execution_count": 46,
     "metadata": {},
     "output_type": "execute_result"
    }
   ],
   "source": [
    "x"
   ]
  },
  {
   "cell_type": "code",
   "execution_count": 47,
   "id": "84ce39a0-dbff-4160-824e-e8e433553a4b",
   "metadata": {},
   "outputs": [],
   "source": [
    "x = car.get(\"price\", 15000)"
   ]
  },
  {
   "cell_type": "code",
   "execution_count": 48,
   "id": "98804dea-8d3f-4cfd-94d3-827a5b16fd7f",
   "metadata": {},
   "outputs": [
    {
     "data": {
      "text/plain": [
       "15000"
      ]
     },
     "execution_count": 48,
     "metadata": {},
     "output_type": "execute_result"
    }
   ],
   "source": [
    "x"
   ]
  },
  {
   "cell_type": "raw",
   "id": "36b5d529-6e07-41ea-8182-e98985b3e972",
   "metadata": {},
   "source": [
    "car"
   ]
  },
  {
   "cell_type": "code",
   "execution_count": 49,
   "id": "d0574bf2-2a8b-404d-ac57-83e732acad0e",
   "metadata": {},
   "outputs": [
    {
     "name": "stdout",
     "output_type": "stream",
     "text": [
      "Mustang\n"
     ]
    }
   ],
   "source": [
    "car = {\n",
    "  \"brand\": \"Ford\",\n",
    "  \"model\": \"Mustang\",\n",
    "  \"year\": 1964\n",
    "}\n",
    "\n",
    "x = car.setdefault(\"model\", \"Bronco\")\n",
    "\n",
    "print(x)"
   ]
  },
  {
   "cell_type": "code",
   "execution_count": 50,
   "id": "87e5115d-0c46-4e44-a94c-0a7dfbd369c8",
   "metadata": {},
   "outputs": [
    {
     "data": {
      "text/plain": [
       "{'brand': 'Ford', 'model': 'Mustang', 'year': 1964}"
      ]
     },
     "execution_count": 50,
     "metadata": {},
     "output_type": "execute_result"
    }
   ],
   "source": [
    "car"
   ]
  },
  {
   "cell_type": "code",
   "execution_count": 51,
   "id": "0c8e8b30-f4b6-411e-939e-e9f95d827fc3",
   "metadata": {},
   "outputs": [],
   "source": [
    "car = {\n",
    "  \"brand\": \"Ford\",\n",
    "  \"model\": \"Mustang\",\n",
    "  \"year\": 1964\n",
    "}"
   ]
  },
  {
   "cell_type": "code",
   "execution_count": 52,
   "id": "75e79059-8fb1-4935-910b-29da36810ca6",
   "metadata": {},
   "outputs": [],
   "source": [
    "car.update({\"color\":\"white\"})"
   ]
  },
  {
   "cell_type": "code",
   "execution_count": 53,
   "id": "61fed465-f3ed-480b-b341-e2bfe469165c",
   "metadata": {},
   "outputs": [
    {
     "data": {
      "text/plain": [
       "{'brand': 'Ford', 'model': 'Mustang', 'year': 1964, 'color': 'white'}"
      ]
     },
     "execution_count": 53,
     "metadata": {},
     "output_type": "execute_result"
    }
   ],
   "source": [
    "car"
   ]
  },
  {
   "cell_type": "code",
   "execution_count": 54,
   "id": "002d4898-f9e9-46b0-a743-ec312267a88f",
   "metadata": {},
   "outputs": [],
   "source": [
    "car = {\n",
    "  \"brand\": \"Ford\",\n",
    "  \"model\": \"Mustang\",\n",
    "  \"year\": 1964\n",
    "}"
   ]
  },
  {
   "cell_type": "code",
   "execution_count": 55,
   "id": "eb22529f-e1ea-4e9d-b800-dd2b50a8784e",
   "metadata": {},
   "outputs": [
    {
     "data": {
      "text/plain": [
       "{'brand': 'Ford', 'model': 'Mustang', 'year': 1964}"
      ]
     },
     "execution_count": 55,
     "metadata": {},
     "output_type": "execute_result"
    }
   ],
   "source": [
    "car"
   ]
  },
  {
   "cell_type": "code",
   "execution_count": 56,
   "id": "4ef320b7-515f-4a2a-9b40-ba701124cb20",
   "metadata": {},
   "outputs": [],
   "source": [
    "car['year'] = 2018"
   ]
  },
  {
   "cell_type": "code",
   "execution_count": 57,
   "id": "1e2b9931-ba16-4bc6-9263-b6f2d8ec854b",
   "metadata": {},
   "outputs": [
    {
     "data": {
      "text/plain": [
       "{'brand': 'Ford', 'model': 'Mustang', 'year': 2018}"
      ]
     },
     "execution_count": 57,
     "metadata": {},
     "output_type": "execute_result"
    }
   ],
   "source": [
    "car"
   ]
  },
  {
   "cell_type": "code",
   "execution_count": 58,
   "id": "ece91ec5-5e08-4963-947c-001f32fef87b",
   "metadata": {},
   "outputs": [
    {
     "name": "stdout",
     "output_type": "stream",
     "text": [
      "a and b are equal\n"
     ]
    }
   ],
   "source": [
    "a=33\n",
    "b=33\n",
    "if b>a:\n",
    "    print(\"b is greater than a\")\n",
    "elif a == b:\n",
    "    print(\"a and b are equal\")"
   ]
  },
  {
   "cell_type": "code",
   "execution_count": 90,
   "id": "3d9ab71e-d8af-4ef1-b0cf-aa611f6b0582",
   "metadata": {},
   "outputs": [],
   "source": [
    "x= \"werty\"\n",
    "#[w,e,r,t,y]"
   ]
  },
  {
   "cell_type": "code",
   "execution_count": 91,
   "id": "f693f486-19a3-48ae-8352-b239244b1fac",
   "metadata": {},
   "outputs": [
    {
     "data": {
      "text/plain": [
       "'werty'"
      ]
     },
     "execution_count": 91,
     "metadata": {},
     "output_type": "execute_result"
    }
   ],
   "source": [
    "x"
   ]
  },
  {
   "cell_type": "code",
   "execution_count": 92,
   "id": "73078ed2-eb72-47ce-9633-4c3bd9c58020",
   "metadata": {},
   "outputs": [],
   "source": [
    "x = list(x)"
   ]
  },
  {
   "cell_type": "code",
   "execution_count": 93,
   "id": "973137c6-be3d-4715-bd8e-be9aef7bf893",
   "metadata": {},
   "outputs": [
    {
     "data": {
      "text/plain": [
       "['w', 'e', 'r', 't', 'y']"
      ]
     },
     "execution_count": 93,
     "metadata": {},
     "output_type": "execute_result"
    }
   ],
   "source": [
    "x"
   ]
  },
  {
   "cell_type": "code",
   "execution_count": null,
   "id": "93d64894-0b57-46da-aee0-888364c73b9a",
   "metadata": {},
   "outputs": [],
   "source": []
  },
  {
   "cell_type": "code",
   "execution_count": null,
   "id": "9ad0ea2f-13a5-481e-905d-823ce0b2e016",
   "metadata": {},
   "outputs": [],
   "source": []
  },
  {
   "cell_type": "code",
   "execution_count": null,
   "id": "44caa138-94b0-44da-ab4b-5af07499f571",
   "metadata": {},
   "outputs": [],
   "source": []
  },
  {
   "cell_type": "code",
   "execution_count": null,
   "id": "2116f578-dd35-483a-a9dd-897b88995707",
   "metadata": {},
   "outputs": [],
   "source": []
  },
  {
   "cell_type": "code",
   "execution_count": null,
   "id": "9c54f2db-dc31-4bad-85d7-5c26e7d10a63",
   "metadata": {},
   "outputs": [],
   "source": []
  },
  {
   "cell_type": "code",
   "execution_count": null,
   "id": "5299345e-b366-4693-8ea3-fa4c9b047a5f",
   "metadata": {},
   "outputs": [],
   "source": []
  },
  {
   "cell_type": "code",
   "execution_count": null,
   "id": "b18fd31f-fa46-41cb-8ed8-a3a63adfc6b1",
   "metadata": {},
   "outputs": [],
   "source": []
  },
  {
   "cell_type": "code",
   "execution_count": null,
   "id": "179ef836-3de6-4321-8f6b-7c9e7b728dec",
   "metadata": {},
   "outputs": [],
   "source": []
  },
  {
   "cell_type": "code",
   "execution_count": null,
   "id": "39c34cef-013a-49df-aabd-664df0913402",
   "metadata": {},
   "outputs": [],
   "source": []
  },
  {
   "cell_type": "code",
   "execution_count": null,
   "id": "32dcd591-1eb9-4d44-9c72-cfe78444c4fd",
   "metadata": {},
   "outputs": [],
   "source": []
  }
 ],
 "metadata": {
  "kernelspec": {
   "display_name": "Python 3 (ipykernel)",
   "language": "python",
   "name": "python3"
  },
  "language_info": {
   "codemirror_mode": {
    "name": "ipython",
    "version": 3
   },
   "file_extension": ".py",
   "mimetype": "text/x-python",
   "name": "python",
   "nbconvert_exporter": "python",
   "pygments_lexer": "ipython3",
   "version": "3.8.0"
  }
 },
 "nbformat": 4,
 "nbformat_minor": 5
}
