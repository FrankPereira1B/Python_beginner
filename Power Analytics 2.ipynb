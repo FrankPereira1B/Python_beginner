{
 "cells": [
  {
   "cell_type": "code",
   "execution_count": 1,
   "id": "9ad04348-6b02-45dd-ad0a-e78bf2595269",
   "metadata": {},
   "outputs": [],
   "source": [
    "import pandas as pd\n",
    "from datetime import date"
   ]
  },
  {
   "cell_type": "code",
   "execution_count": 2,
   "id": "04833c23-323d-4df0-aa76-bf070959a89e",
   "metadata": {},
   "outputs": [],
   "source": [
    "df = pd.read_csv(r\"C:\\Users\\rithe\\OneDrive\\Desktop\\Trader\\traderenv\\power_system_dispatch_drl.csv\")"
   ]
  },
  {
   "cell_type": "code",
   "execution_count": 3,
   "id": "2ba8b850-f54f-4845-8022-915e70d599e7",
   "metadata": {},
   "outputs": [
    {
     "data": {
      "text/html": [
       "<div>\n",
       "<style scoped>\n",
       "    .dataframe tbody tr th:only-of-type {\n",
       "        vertical-align: middle;\n",
       "    }\n",
       "\n",
       "    .dataframe tbody tr th {\n",
       "        vertical-align: top;\n",
       "    }\n",
       "\n",
       "    .dataframe thead th {\n",
       "        text-align: right;\n",
       "    }\n",
       "</style>\n",
       "<table border=\"1\" class=\"dataframe\">\n",
       "  <thead>\n",
       "    <tr style=\"text-align: right;\">\n",
       "      <th></th>\n",
       "      <th>Timestamp</th>\n",
       "      <th>Demand</th>\n",
       "      <th>TCL_Load</th>\n",
       "      <th>PriceResp_Load</th>\n",
       "      <th>Wind_Gen</th>\n",
       "      <th>Solar_Gen</th>\n",
       "      <th>Conv_Gen</th>\n",
       "      <th>Storage_SOC</th>\n",
       "      <th>Price</th>\n",
       "      <th>Action_Dispatch</th>\n",
       "      <th>Action_TCL</th>\n",
       "      <th>Action_PriceResp</th>\n",
       "      <th>Reward</th>\n",
       "    </tr>\n",
       "  </thead>\n",
       "  <tbody>\n",
       "    <tr>\n",
       "      <th>0</th>\n",
       "      <td>2025-01-01 00:00:00</td>\n",
       "      <td>298.902322</td>\n",
       "      <td>50.928637</td>\n",
       "      <td>24.622772</td>\n",
       "      <td>90.357993</td>\n",
       "      <td>-1.935874</td>\n",
       "      <td>210.480202</td>\n",
       "      <td>0.526245</td>\n",
       "      <td>39.549898</td>\n",
       "      <td>210.480202</td>\n",
       "      <td>45.940437</td>\n",
       "      <td>16.912081</td>\n",
       "      <td>-74.426815</td>\n",
       "    </tr>\n",
       "    <tr>\n",
       "      <th>1</th>\n",
       "      <td>2025-01-01 00:15:00</td>\n",
       "      <td>303.533891</td>\n",
       "      <td>55.126560</td>\n",
       "      <td>21.487038</td>\n",
       "      <td>68.556957</td>\n",
       "      <td>0.771356</td>\n",
       "      <td>234.205579</td>\n",
       "      <td>0.518234</td>\n",
       "      <td>39.055447</td>\n",
       "      <td>234.205579</td>\n",
       "      <td>47.337750</td>\n",
       "      <td>11.770759</td>\n",
       "      <td>-79.592571</td>\n",
       "    </tr>\n",
       "    <tr>\n",
       "      <th>2</th>\n",
       "      <td>2025-01-01 00:30:00</td>\n",
       "      <td>297.773384</td>\n",
       "      <td>47.528411</td>\n",
       "      <td>17.517491</td>\n",
       "      <td>90.465401</td>\n",
       "      <td>6.330603</td>\n",
       "      <td>200.977379</td>\n",
       "      <td>0.508052</td>\n",
       "      <td>38.640551</td>\n",
       "      <td>200.977379</td>\n",
       "      <td>42.215825</td>\n",
       "      <td>13.019082</td>\n",
       "      <td>-69.545442</td>\n",
       "    </tr>\n",
       "    <tr>\n",
       "      <th>3</th>\n",
       "      <td>2025-01-01 00:45:00</td>\n",
       "      <td>309.852570</td>\n",
       "      <td>59.920047</td>\n",
       "      <td>25.675628</td>\n",
       "      <td>99.167507</td>\n",
       "      <td>10.037923</td>\n",
       "      <td>200.647141</td>\n",
       "      <td>0.509335</td>\n",
       "      <td>42.178781</td>\n",
       "      <td>200.647141</td>\n",
       "      <td>57.679634</td>\n",
       "      <td>13.576543</td>\n",
       "      <td>-71.688526</td>\n",
       "    </tr>\n",
       "    <tr>\n",
       "      <th>4</th>\n",
       "      <td>2025-01-01 01:00:00</td>\n",
       "      <td>297.399808</td>\n",
       "      <td>58.510145</td>\n",
       "      <td>18.164297</td>\n",
       "      <td>85.201429</td>\n",
       "      <td>2.761868</td>\n",
       "      <td>209.436511</td>\n",
       "      <td>0.506897</td>\n",
       "      <td>42.290103</td>\n",
       "      <td>209.436511</td>\n",
       "      <td>55.400260</td>\n",
       "      <td>15.046083</td>\n",
       "      <td>-74.733983</td>\n",
       "    </tr>\n",
       "    <tr>\n",
       "      <th>...</th>\n",
       "      <td>...</td>\n",
       "      <td>...</td>\n",
       "      <td>...</td>\n",
       "      <td>...</td>\n",
       "      <td>...</td>\n",
       "      <td>...</td>\n",
       "      <td>...</td>\n",
       "      <td>...</td>\n",
       "      <td>...</td>\n",
       "      <td>...</td>\n",
       "      <td>...</td>\n",
       "      <td>...</td>\n",
       "      <td>...</td>\n",
       "    </tr>\n",
       "    <tr>\n",
       "      <th>4871</th>\n",
       "      <td>2025-02-20 17:45:00</td>\n",
       "      <td>301.942174</td>\n",
       "      <td>58.776197</td>\n",
       "      <td>27.936127</td>\n",
       "      <td>66.388295</td>\n",
       "      <td>-1.130732</td>\n",
       "      <td>236.684612</td>\n",
       "      <td>0.433194</td>\n",
       "      <td>40.178783</td>\n",
       "      <td>236.684612</td>\n",
       "      <td>54.651822</td>\n",
       "      <td>25.061688</td>\n",
       "      <td>-86.540047</td>\n",
       "    </tr>\n",
       "    <tr>\n",
       "      <th>4872</th>\n",
       "      <td>2025-02-20 18:00:00</td>\n",
       "      <td>293.738879</td>\n",
       "      <td>53.045830</td>\n",
       "      <td>21.436923</td>\n",
       "      <td>86.772551</td>\n",
       "      <td>4.098379</td>\n",
       "      <td>202.867949</td>\n",
       "      <td>0.433962</td>\n",
       "      <td>41.117057</td>\n",
       "      <td>202.867949</td>\n",
       "      <td>51.543713</td>\n",
       "      <td>14.509424</td>\n",
       "      <td>-71.980604</td>\n",
       "    </tr>\n",
       "    <tr>\n",
       "      <th>4873</th>\n",
       "      <td>2025-02-20 18:15:00</td>\n",
       "      <td>304.103323</td>\n",
       "      <td>46.382189</td>\n",
       "      <td>15.325917</td>\n",
       "      <td>90.106648</td>\n",
       "      <td>-8.263648</td>\n",
       "      <td>222.260323</td>\n",
       "      <td>0.425592</td>\n",
       "      <td>40.090924</td>\n",
       "      <td>222.260323</td>\n",
       "      <td>43.797523</td>\n",
       "      <td>14.448177</td>\n",
       "      <td>-76.850257</td>\n",
       "    </tr>\n",
       "    <tr>\n",
       "      <th>4874</th>\n",
       "      <td>2025-02-20 18:30:00</td>\n",
       "      <td>296.033141</td>\n",
       "      <td>44.519090</td>\n",
       "      <td>18.555616</td>\n",
       "      <td>85.101136</td>\n",
       "      <td>6.113586</td>\n",
       "      <td>204.818419</td>\n",
       "      <td>0.421340</td>\n",
       "      <td>40.182772</td>\n",
       "      <td>204.818419</td>\n",
       "      <td>41.349246</td>\n",
       "      <td>14.529683</td>\n",
       "      <td>-71.418880</td>\n",
       "    </tr>\n",
       "    <tr>\n",
       "      <th>4875</th>\n",
       "      <td>2025-02-20 18:45:00</td>\n",
       "      <td>311.926403</td>\n",
       "      <td>52.928339</td>\n",
       "      <td>28.619720</td>\n",
       "      <td>78.496836</td>\n",
       "      <td>-1.142411</td>\n",
       "      <td>234.571978</td>\n",
       "      <td>0.405042</td>\n",
       "      <td>40.738167</td>\n",
       "      <td>234.571978</td>\n",
       "      <td>44.618839</td>\n",
       "      <td>26.957661</td>\n",
       "      <td>-85.815534</td>\n",
       "    </tr>\n",
       "  </tbody>\n",
       "</table>\n",
       "<p>4876 rows × 13 columns</p>\n",
       "</div>"
      ],
      "text/plain": [
       "                Timestamp      Demand   TCL_Load  PriceResp_Load   Wind_Gen  \\\n",
       "0     2025-01-01 00:00:00  298.902322  50.928637       24.622772  90.357993   \n",
       "1     2025-01-01 00:15:00  303.533891  55.126560       21.487038  68.556957   \n",
       "2     2025-01-01 00:30:00  297.773384  47.528411       17.517491  90.465401   \n",
       "3     2025-01-01 00:45:00  309.852570  59.920047       25.675628  99.167507   \n",
       "4     2025-01-01 01:00:00  297.399808  58.510145       18.164297  85.201429   \n",
       "...                   ...         ...        ...             ...        ...   \n",
       "4871  2025-02-20 17:45:00  301.942174  58.776197       27.936127  66.388295   \n",
       "4872  2025-02-20 18:00:00  293.738879  53.045830       21.436923  86.772551   \n",
       "4873  2025-02-20 18:15:00  304.103323  46.382189       15.325917  90.106648   \n",
       "4874  2025-02-20 18:30:00  296.033141  44.519090       18.555616  85.101136   \n",
       "4875  2025-02-20 18:45:00  311.926403  52.928339       28.619720  78.496836   \n",
       "\n",
       "      Solar_Gen    Conv_Gen  Storage_SOC      Price  Action_Dispatch  \\\n",
       "0     -1.935874  210.480202     0.526245  39.549898       210.480202   \n",
       "1      0.771356  234.205579     0.518234  39.055447       234.205579   \n",
       "2      6.330603  200.977379     0.508052  38.640551       200.977379   \n",
       "3     10.037923  200.647141     0.509335  42.178781       200.647141   \n",
       "4      2.761868  209.436511     0.506897  42.290103       209.436511   \n",
       "...         ...         ...          ...        ...              ...   \n",
       "4871  -1.130732  236.684612     0.433194  40.178783       236.684612   \n",
       "4872   4.098379  202.867949     0.433962  41.117057       202.867949   \n",
       "4873  -8.263648  222.260323     0.425592  40.090924       222.260323   \n",
       "4874   6.113586  204.818419     0.421340  40.182772       204.818419   \n",
       "4875  -1.142411  234.571978     0.405042  40.738167       234.571978   \n",
       "\n",
       "      Action_TCL  Action_PriceResp     Reward  \n",
       "0      45.940437         16.912081 -74.426815  \n",
       "1      47.337750         11.770759 -79.592571  \n",
       "2      42.215825         13.019082 -69.545442  \n",
       "3      57.679634         13.576543 -71.688526  \n",
       "4      55.400260         15.046083 -74.733983  \n",
       "...          ...               ...        ...  \n",
       "4871   54.651822         25.061688 -86.540047  \n",
       "4872   51.543713         14.509424 -71.980604  \n",
       "4873   43.797523         14.448177 -76.850257  \n",
       "4874   41.349246         14.529683 -71.418880  \n",
       "4875   44.618839         26.957661 -85.815534  \n",
       "\n",
       "[4876 rows x 13 columns]"
      ]
     },
     "execution_count": 3,
     "metadata": {},
     "output_type": "execute_result"
    }
   ],
   "source": [
    "df"
   ]
  },
  {
   "cell_type": "code",
   "execution_count": 4,
   "id": "fd818b18-7d22-4764-8224-e756bab2d838",
   "metadata": {},
   "outputs": [
    {
     "data": {
      "text/plain": [
       "Index(['Timestamp', 'Demand', 'TCL_Load', 'PriceResp_Load', 'Wind_Gen',\n",
       "       'Solar_Gen', 'Conv_Gen', 'Storage_SOC', 'Price', 'Action_Dispatch',\n",
       "       'Action_TCL', 'Action_PriceResp', 'Reward'],\n",
       "      dtype='object')"
      ]
     },
     "execution_count": 4,
     "metadata": {},
     "output_type": "execute_result"
    }
   ],
   "source": [
    "df.columns"
   ]
  },
  {
   "cell_type": "code",
   "execution_count": 42,
   "id": "fd41e154-1149-41c8-a0c6-394b0d535232",
   "metadata": {},
   "outputs": [],
   "source": [
    "# Finding date range"
   ]
  },
  {
   "cell_type": "code",
   "execution_count": 5,
   "id": "80dba2d3-1232-4e6c-9c9d-2bd59bb0b6b5",
   "metadata": {},
   "outputs": [],
   "source": [
    "date_range_beg = df['Timestamp'][0]"
   ]
  },
  {
   "cell_type": "code",
   "execution_count": 6,
   "id": "37b24efc-cacc-4de4-a213-e98acc9d53f5",
   "metadata": {},
   "outputs": [
    {
     "data": {
      "text/plain": [
       "'2025-01-01 00:00:00'"
      ]
     },
     "execution_count": 6,
     "metadata": {},
     "output_type": "execute_result"
    }
   ],
   "source": [
    "date_range_beg"
   ]
  },
  {
   "cell_type": "code",
   "execution_count": 7,
   "id": "34665c05-cca2-44f1-b016-e6600e63c324",
   "metadata": {},
   "outputs": [],
   "source": [
    "date_range_end = df['Timestamp'][len(df['Timestamp'])-1]"
   ]
  },
  {
   "cell_type": "code",
   "execution_count": 8,
   "id": "c27ac90f-cad1-4766-aa5c-d3bf719eab81",
   "metadata": {},
   "outputs": [
    {
     "data": {
      "text/plain": [
       "'2025-02-20 18:45:00'"
      ]
     },
     "execution_count": 8,
     "metadata": {},
     "output_type": "execute_result"
    }
   ],
   "source": [
    "date_range_end"
   ]
  },
  {
   "cell_type": "code",
   "execution_count": 9,
   "id": "7b1a814b-b5b3-4c3c-8154-3d9580e0060a",
   "metadata": {},
   "outputs": [
    {
     "data": {
      "text/plain": [
       "('2025-01-01 00:00:00', '2025-02-20 18:45:00')"
      ]
     },
     "execution_count": 9,
     "metadata": {},
     "output_type": "execute_result"
    }
   ],
   "source": [
    "date_range_beg,date_range_end"
   ]
  },
  {
   "cell_type": "code",
   "execution_count": 10,
   "id": "81b8591f-f3c6-4b1e-8368-3fbb1a208206",
   "metadata": {},
   "outputs": [],
   "source": [
    "# Calculating days"
   ]
  },
  {
   "cell_type": "code",
   "execution_count": 11,
   "id": "b1411790-148e-4f8c-9998-3e099ed9b354",
   "metadata": {},
   "outputs": [],
   "source": [
    "# Converting them into int - strings are not supported"
   ]
  },
  {
   "cell_type": "code",
   "execution_count": 12,
   "id": "04f2a44b-fcae-4788-a25a-e95530f8742b",
   "metadata": {},
   "outputs": [],
   "source": [
    "date_range_beg = date_range_beg.split(\" \")[:-1]"
   ]
  },
  {
   "cell_type": "code",
   "execution_count": 13,
   "id": "0409b53e-44a7-4069-bbd7-6625ca495ee4",
   "metadata": {},
   "outputs": [
    {
     "data": {
      "text/plain": [
       "['2025-01-01']"
      ]
     },
     "execution_count": 13,
     "metadata": {},
     "output_type": "execute_result"
    }
   ],
   "source": [
    "date_range_beg"
   ]
  },
  {
   "cell_type": "code",
   "execution_count": 15,
   "id": "29186959-0bcd-4a4c-bdb7-59f2f8ce23d1",
   "metadata": {},
   "outputs": [],
   "source": [
    "txt= \"hello\""
   ]
  },
  {
   "cell_type": "code",
   "execution_count": 16,
   "id": "79e654f6-2fc2-496c-b5f0-b0631def2adf",
   "metadata": {},
   "outputs": [],
   "source": [
    "x = txt.capitalize()"
   ]
  },
  {
   "cell_type": "code",
   "execution_count": 17,
   "id": "5fdf9407-52f4-4ce9-9775-60cb76a9de9d",
   "metadata": {},
   "outputs": [
    {
     "data": {
      "text/plain": [
       "'Hello'"
      ]
     },
     "execution_count": 17,
     "metadata": {},
     "output_type": "execute_result"
    }
   ],
   "source": [
    "x"
   ]
  },
  {
   "cell_type": "code",
   "execution_count": 18,
   "id": "40aaab35-6bc6-4e79-a9a5-ff390c87879d",
   "metadata": {},
   "outputs": [],
   "source": [
    "txt = \"banana\""
   ]
  },
  {
   "cell_type": "code",
   "execution_count": 19,
   "id": "572740dd-4ce5-4324-a26e-0e928ebbf7fe",
   "metadata": {},
   "outputs": [],
   "source": [
    "x = txt.center(20)"
   ]
  },
  {
   "cell_type": "code",
   "execution_count": 20,
   "id": "c87d53d0-e99a-41bd-a639-b7276b9523e9",
   "metadata": {},
   "outputs": [
    {
     "data": {
      "text/plain": [
       "'       banana       '"
      ]
     },
     "execution_count": 20,
     "metadata": {},
     "output_type": "execute_result"
    }
   ],
   "source": [
    "x"
   ]
  },
  {
   "cell_type": "code",
   "execution_count": 22,
   "id": "9126ddcb-8843-4046-b532-8a32b1235dfa",
   "metadata": {},
   "outputs": [],
   "source": [
    "x = txt.center(20, \"0\")"
   ]
  },
  {
   "cell_type": "code",
   "execution_count": 23,
   "id": "e44e9843-1f68-4e94-ba6e-d9a2839c89d7",
   "metadata": {},
   "outputs": [
    {
     "data": {
      "text/plain": [
       "'0000000banana0000000'"
      ]
     },
     "execution_count": 23,
     "metadata": {},
     "output_type": "execute_result"
    }
   ],
   "source": [
    "x"
   ]
  },
  {
   "cell_type": "code",
   "execution_count": 26,
   "id": "3d0d848c-8eec-45bc-ba19-a3cc6c303fa4",
   "metadata": {},
   "outputs": [],
   "source": [
    "txt = \"I love apples, apple are my favorite fruit\"\n",
    "x = txt.count(\"apple\")"
   ]
  },
  {
   "cell_type": "code",
   "execution_count": 28,
   "id": "b3c21280-e00d-444e-a1eb-9f553ff561ea",
   "metadata": {},
   "outputs": [],
   "source": [
    "x = txt.count(\"apple\", 10, 24)"
   ]
  },
  {
   "cell_type": "code",
   "execution_count": 29,
   "id": "6223fa85-6f80-4ed6-904c-e4ac8a2bacbf",
   "metadata": {},
   "outputs": [
    {
     "data": {
      "text/plain": [
       "1"
      ]
     },
     "execution_count": 29,
     "metadata": {},
     "output_type": "execute_result"
    }
   ],
   "source": [
    "x"
   ]
  },
  {
   "cell_type": "code",
   "execution_count": 30,
   "id": "c6753168-11e1-4c6c-ab69-21499a90199d",
   "metadata": {},
   "outputs": [],
   "source": [
    "txt = \"My name is stale\""
   ]
  },
  {
   "cell_type": "code",
   "execution_count": 31,
   "id": "32605d2a-8164-4983-9f7d-b481f7c251d5",
   "metadata": {},
   "outputs": [],
   "source": [
    "x = txt.encode()"
   ]
  },
  {
   "cell_type": "code",
   "execution_count": 32,
   "id": "c8b64753-df0d-44e9-8c27-273054833c0b",
   "metadata": {},
   "outputs": [
    {
     "data": {
      "text/plain": [
       "b'My name is stale'"
      ]
     },
     "execution_count": 32,
     "metadata": {},
     "output_type": "execute_result"
    }
   ],
   "source": [
    "x"
   ]
  },
  {
   "cell_type": "code",
   "execution_count": 38,
   "id": "2ce89e7b-ccdd-4041-883c-e43a9cff98ec",
   "metadata": {},
   "outputs": [],
   "source": [
    "txt = \"Hello, welcome to my world\""
   ]
  },
  {
   "cell_type": "code",
   "execution_count": 34,
   "id": "e63e56e2-2e54-4494-846a-9fd1ae8f434f",
   "metadata": {},
   "outputs": [],
   "source": [
    "x = txt.endswith(\".\")"
   ]
  },
  {
   "cell_type": "code",
   "execution_count": 35,
   "id": "795cf152-e31c-4dea-b034-d24502b7a625",
   "metadata": {},
   "outputs": [
    {
     "data": {
      "text/plain": [
       "False"
      ]
     },
     "execution_count": 35,
     "metadata": {},
     "output_type": "execute_result"
    }
   ],
   "source": [
    "x"
   ]
  },
  {
   "cell_type": "code",
   "execution_count": 39,
   "id": "0c05e8f3-27b2-4d44-b95f-02da71024671",
   "metadata": {},
   "outputs": [],
   "source": [
    "x = txt.endswith((\"world\", \"Castle\"))"
   ]
  },
  {
   "cell_type": "code",
   "execution_count": 41,
   "id": "d64705ee-7311-4979-a579-c20cbe9fbeb8",
   "metadata": {},
   "outputs": [],
   "source": [
    "txt = \"H\\te\\tl\\tl\\to\""
   ]
  },
  {
   "cell_type": "code",
   "execution_count": 44,
   "id": "962f5802-e5c2-4640-b79c-0311994bc7f6",
   "metadata": {},
   "outputs": [],
   "source": [
    "x = txt.expandtabs(4)"
   ]
  },
  {
   "cell_type": "code",
   "execution_count": 45,
   "id": "2532c7bf-2073-4ed4-84e0-7d79c0189793",
   "metadata": {},
   "outputs": [
    {
     "data": {
      "text/plain": [
       "'H   e   l   l   o'"
      ]
     },
     "execution_count": 45,
     "metadata": {},
     "output_type": "execute_result"
    }
   ],
   "source": [
    "x"
   ]
  },
  {
   "cell_type": "code",
   "execution_count": 52,
   "id": "b05879e0-5608-43b6-89af-a536eb40050c",
   "metadata": {},
   "outputs": [],
   "source": [
    "txt = \"Hello, welcome to my world\""
   ]
  },
  {
   "cell_type": "code",
   "execution_count": 53,
   "id": "0c4d2555-5b14-4ca4-9f1f-bf72eb408a87",
   "metadata": {},
   "outputs": [],
   "source": [
    "x = txt.find(\"welcome\")"
   ]
  },
  {
   "cell_type": "code",
   "execution_count": 54,
   "id": "e752ddb6-6a23-466c-adde-51df159995bd",
   "metadata": {},
   "outputs": [
    {
     "data": {
      "text/plain": [
       "7"
      ]
     },
     "execution_count": 54,
     "metadata": {},
     "output_type": "execute_result"
    }
   ],
   "source": [
    "x"
   ]
  },
  {
   "cell_type": "code",
   "execution_count": 55,
   "id": "0f1c6862-5e60-4063-a71f-25d50e98bfd3",
   "metadata": {},
   "outputs": [],
   "source": [
    "x = txt.find(\"e\")"
   ]
  },
  {
   "cell_type": "code",
   "execution_count": 56,
   "id": "76968e02-ff5c-4d07-b17c-f128edd94c7c",
   "metadata": {},
   "outputs": [
    {
     "data": {
      "text/plain": [
       "1"
      ]
     },
     "execution_count": 56,
     "metadata": {},
     "output_type": "execute_result"
    }
   ],
   "source": [
    "x"
   ]
  },
  {
   "cell_type": "code",
   "execution_count": 58,
   "id": "516e5499-94e3-414e-9f7e-03f19183612c",
   "metadata": {},
   "outputs": [],
   "source": [
    "x = txt.find(\"e\", 5, 10)"
   ]
  },
  {
   "cell_type": "code",
   "execution_count": 59,
   "id": "d76f825d-ab30-4bfb-9c33-9b485be0961f",
   "metadata": {},
   "outputs": [
    {
     "data": {
      "text/plain": [
       "8"
      ]
     },
     "execution_count": 59,
     "metadata": {},
     "output_type": "execute_result"
    }
   ],
   "source": [
    "x"
   ]
  },
  {
   "cell_type": "code",
   "execution_count": 60,
   "id": "3f463676-e8ff-4a2c-ae02-4386927d28fa",
   "metadata": {},
   "outputs": [],
   "source": [
    "txt = \"For only {price:.2f} dollars!\""
   ]
  },
  {
   "cell_type": "code",
   "execution_count": 61,
   "id": "9f1663fe-bd9d-44a3-9768-da6d5dfd6e45",
   "metadata": {},
   "outputs": [],
   "source": [
    "price = 49"
   ]
  },
  {
   "cell_type": "code",
   "execution_count": 62,
   "id": "3dc66364-caab-4980-89bc-5cc7552b5ab3",
   "metadata": {},
   "outputs": [
    {
     "data": {
      "text/plain": [
       "'For only {price:.2f} dollars!'"
      ]
     },
     "execution_count": 62,
     "metadata": {},
     "output_type": "execute_result"
    }
   ],
   "source": [
    "txt"
   ]
  },
  {
   "cell_type": "code",
   "execution_count": 63,
   "id": "7542096b-1a53-4911-a9ae-94469c4c1c6c",
   "metadata": {},
   "outputs": [
    {
     "data": {
      "text/plain": [
       "'For only 49.00 dollars!'"
      ]
     },
     "execution_count": 63,
     "metadata": {},
     "output_type": "execute_result"
    }
   ],
   "source": [
    "txt.format(price=49)"
   ]
  },
  {
   "cell_type": "code",
   "execution_count": 64,
   "id": "1877c5cb-50ce-4190-959c-b49e7a196bea",
   "metadata": {},
   "outputs": [],
   "source": [
    "txt1 = \"My name is {fname}, I'm {age}\""
   ]
  },
  {
   "cell_type": "code",
   "execution_count": 65,
   "id": "7d6bfb03-d3d4-4117-b7d5-a45242358db3",
   "metadata": {},
   "outputs": [
    {
     "data": {
      "text/plain": [
       "\"My name is Frank, I'm 35\""
      ]
     },
     "execution_count": 65,
     "metadata": {},
     "output_type": "execute_result"
    }
   ],
   "source": [
    "txt1.format(fname = \"Frank\", age = 35)"
   ]
  },
  {
   "cell_type": "code",
   "execution_count": 66,
   "id": "9c8b01dd-b1a6-4219-937e-6ecec0350b9d",
   "metadata": {},
   "outputs": [],
   "source": [
    "txt = \"Hello , welcome to my world.\""
   ]
  },
  {
   "cell_type": "code",
   "execution_count": 67,
   "id": "44d7ab0d-aef0-4329-8440-68c66e4ab531",
   "metadata": {},
   "outputs": [],
   "source": [
    "x = txt.index(\"welcome\")"
   ]
  },
  {
   "cell_type": "code",
   "execution_count": 68,
   "id": "20d57068-cc47-46fe-87f8-dd7b8adb0dd1",
   "metadata": {},
   "outputs": [
    {
     "data": {
      "text/plain": [
       "8"
      ]
     },
     "execution_count": 68,
     "metadata": {},
     "output_type": "execute_result"
    }
   ],
   "source": [
    "x"
   ]
  },
  {
   "cell_type": "code",
   "execution_count": 69,
   "id": "098a1ac7-9b19-4446-a122-3e8d48384d15",
   "metadata": {},
   "outputs": [],
   "source": [
    "x = txt.index(\"e\", 5, 10)"
   ]
  },
  {
   "cell_type": "code",
   "execution_count": 70,
   "id": "95252afd-1609-4a1f-9526-315b039d2330",
   "metadata": {},
   "outputs": [
    {
     "data": {
      "text/plain": [
       "9"
      ]
     },
     "execution_count": 70,
     "metadata": {},
     "output_type": "execute_result"
    }
   ],
   "source": [
    "x"
   ]
  },
  {
   "cell_type": "code",
   "execution_count": 71,
   "id": "32d0fa2f-3e94-4c64-86d4-50de6d0d6c8c",
   "metadata": {},
   "outputs": [
    {
     "data": {
      "text/plain": [
       "-1"
      ]
     },
     "execution_count": 71,
     "metadata": {},
     "output_type": "execute_result"
    }
   ],
   "source": [
    "txt.find(\"q\")"
   ]
  },
  {
   "cell_type": "code",
   "execution_count": 72,
   "id": "97955d12-aa6f-4917-840b-11426f8afb5e",
   "metadata": {},
   "outputs": [
    {
     "ename": "ValueError",
     "evalue": "substring not found",
     "output_type": "error",
     "traceback": [
      "\u001b[1;31m---------------------------------------------------------------------------\u001b[0m",
      "\u001b[1;31mValueError\u001b[0m                                Traceback (most recent call last)",
      "Cell \u001b[1;32mIn[72], line 1\u001b[0m\n\u001b[1;32m----> 1\u001b[0m \u001b[43mtxt\u001b[49m\u001b[38;5;241;43m.\u001b[39;49m\u001b[43mindex\u001b[49m\u001b[43m(\u001b[49m\u001b[38;5;124;43m\"\u001b[39;49m\u001b[38;5;124;43mq\u001b[39;49m\u001b[38;5;124;43m\"\u001b[39;49m\u001b[43m)\u001b[49m\n",
      "\u001b[1;31mValueError\u001b[0m: substring not found"
     ]
    }
   ],
   "source": [
    "txt.index(\"q\")"
   ]
  },
  {
   "cell_type": "code",
   "execution_count": 73,
   "id": "a605bbc0-6d09-4172-a5e6-07062dd07b52",
   "metadata": {},
   "outputs": [],
   "source": [
    "txt = \"company12\""
   ]
  },
  {
   "cell_type": "code",
   "execution_count": 74,
   "id": "d117be2d-9faa-4900-8082-dae5565316b6",
   "metadata": {},
   "outputs": [],
   "source": [
    "x = txt.isalnum()"
   ]
  },
  {
   "cell_type": "code",
   "execution_count": 75,
   "id": "7624713d-759a-4aaf-9ebe-a2e7d7d59946",
   "metadata": {},
   "outputs": [
    {
     "data": {
      "text/plain": [
       "True"
      ]
     },
     "execution_count": 75,
     "metadata": {},
     "output_type": "execute_result"
    }
   ],
   "source": [
    "x"
   ]
  },
  {
   "cell_type": "code",
   "execution_count": 76,
   "id": "8f797f77-4357-4a3e-a16f-ae53a4d04193",
   "metadata": {},
   "outputs": [],
   "source": [
    "txt = \"CompanyX\""
   ]
  },
  {
   "cell_type": "code",
   "execution_count": 77,
   "id": "57d17515-1fe6-48b9-8a92-ef5c9117308b",
   "metadata": {},
   "outputs": [],
   "source": [
    "x = txt.isalpha()"
   ]
  },
  {
   "cell_type": "code",
   "execution_count": 78,
   "id": "b0656d8f-17dc-4864-9f78-92bbed818106",
   "metadata": {},
   "outputs": [
    {
     "data": {
      "text/plain": [
       "True"
      ]
     },
     "execution_count": 78,
     "metadata": {},
     "output_type": "execute_result"
    }
   ],
   "source": [
    "x"
   ]
  },
  {
   "cell_type": "code",
   "execution_count": 79,
   "id": "324ec614-fdb6-4840-9418-eff0cf06966e",
   "metadata": {},
   "outputs": [],
   "source": [
    "x = txt.isascii()"
   ]
  },
  {
   "cell_type": "code",
   "execution_count": 80,
   "id": "b8262df8-4263-4b31-8aff-7d030ae1507f",
   "metadata": {},
   "outputs": [
    {
     "data": {
      "text/plain": [
       "True"
      ]
     },
     "execution_count": 80,
     "metadata": {},
     "output_type": "execute_result"
    }
   ],
   "source": [
    "x"
   ]
  },
  {
   "cell_type": "code",
   "execution_count": 81,
   "id": "8afb0870-912f-4130-9bb8-4404159f90aa",
   "metadata": {},
   "outputs": [],
   "source": [
    "txt =\"1234\""
   ]
  },
  {
   "cell_type": "code",
   "execution_count": 82,
   "id": "64fbe98f-a1c8-4fa8-8192-8717ce262d16",
   "metadata": {},
   "outputs": [],
   "source": [
    "x = txt.isdecimal()"
   ]
  },
  {
   "cell_type": "code",
   "execution_count": 84,
   "id": "ace36fbf-9e75-41ac-8039-9971ce7973c2",
   "metadata": {},
   "outputs": [
    {
     "data": {
      "text/plain": [
       "True"
      ]
     },
     "execution_count": 84,
     "metadata": {},
     "output_type": "execute_result"
    }
   ],
   "source": [
    "x"
   ]
  },
  {
   "cell_type": "code",
   "execution_count": 90,
   "id": "f819395e-5f2e-42c5-9b5b-d8acc4c98406",
   "metadata": {},
   "outputs": [],
   "source": [
    "a = \"\\u0030\" # unicode 0\n",
    "b = \"\\u0047\""
   ]
  },
  {
   "cell_type": "code",
   "execution_count": 91,
   "id": "e2b7d3d6-7dd2-4324-bc8c-53946b43c62e",
   "metadata": {},
   "outputs": [
    {
     "name": "stdout",
     "output_type": "stream",
     "text": [
      "True\n",
      "False\n"
     ]
    }
   ],
   "source": [
    "print(a.isdecimal())\n",
    "print(b.isdecimal())"
   ]
  },
  {
   "cell_type": "code",
   "execution_count": 92,
   "id": "26521bec-420c-4abb-8693-a707c0c219af",
   "metadata": {},
   "outputs": [],
   "source": [
    "txt = \"50800\""
   ]
  },
  {
   "cell_type": "code",
   "execution_count": 93,
   "id": "ef62be24-ae03-4ff7-acd1-65b3e1d2424c",
   "metadata": {},
   "outputs": [],
   "source": [
    "x = txt.isdigit()"
   ]
  },
  {
   "cell_type": "code",
   "execution_count": 94,
   "id": "5c9ca0e7-b272-4f9b-a4bd-51c7e3512a6e",
   "metadata": {},
   "outputs": [
    {
     "data": {
      "text/plain": [
       "True"
      ]
     },
     "execution_count": 94,
     "metadata": {},
     "output_type": "execute_result"
    }
   ],
   "source": [
    "x"
   ]
  },
  {
   "cell_type": "code",
   "execution_count": 95,
   "id": "245f3fe7-1118-4fff-9be3-8cdda3ac7525",
   "metadata": {},
   "outputs": [],
   "source": [
    "txt = \"Demo\""
   ]
  },
  {
   "cell_type": "code",
   "execution_count": 96,
   "id": "7c0d021b-926f-4137-af4b-5af803304ea0",
   "metadata": {},
   "outputs": [],
   "source": [
    "x = txt.isidentifier()"
   ]
  },
  {
   "cell_type": "code",
   "execution_count": 97,
   "id": "2f515849-5f46-485e-ae3f-87e3dfb89936",
   "metadata": {},
   "outputs": [
    {
     "data": {
      "text/plain": [
       "True"
      ]
     },
     "execution_count": 97,
     "metadata": {},
     "output_type": "execute_result"
    }
   ],
   "source": [
    "x"
   ]
  },
  {
   "cell_type": "code",
   "execution_count": 98,
   "id": "99a9a2b2-bdcd-4e66-92be-91a1a65cfcb6",
   "metadata": {},
   "outputs": [],
   "source": [
    "txt = \"hello\""
   ]
  },
  {
   "cell_type": "code",
   "execution_count": 100,
   "id": "1b119465-b4bb-4c0d-a251-f100a9d2516b",
   "metadata": {},
   "outputs": [],
   "source": [
    "x = txt.islower()"
   ]
  },
  {
   "cell_type": "code",
   "execution_count": 101,
   "id": "bd6aa24a-e632-470c-beb9-345d9c63c0ae",
   "metadata": {},
   "outputs": [
    {
     "data": {
      "text/plain": [
       "True"
      ]
     },
     "execution_count": 101,
     "metadata": {},
     "output_type": "execute_result"
    }
   ],
   "source": [
    "x"
   ]
  },
  {
   "cell_type": "code",
   "execution_count": 102,
   "id": "d6d3046e-75d1-4d7d-b8cc-4451ddbca040",
   "metadata": {},
   "outputs": [],
   "source": [
    "myTuple = (\"john\", \"Peter\", \"vivky\")"
   ]
  },
  {
   "cell_type": "code",
   "execution_count": 103,
   "id": "d8bdebdd-ba88-47cb-a85a-1cd853dde514",
   "metadata": {},
   "outputs": [],
   "source": [
    "x = \"#\".join(myTuple)"
   ]
  },
  {
   "cell_type": "code",
   "execution_count": 104,
   "id": "f9febc3c-4473-40ca-87d2-04922dc5d41d",
   "metadata": {},
   "outputs": [
    {
     "data": {
      "text/plain": [
       "'john#Peter#vivky'"
      ]
     },
     "execution_count": 104,
     "metadata": {},
     "output_type": "execute_result"
    }
   ],
   "source": [
    "x"
   ]
  },
  {
   "cell_type": "code",
   "execution_count": 105,
   "id": "10c8ba8b-19ec-4222-9b22-ab6377c620a3",
   "metadata": {},
   "outputs": [],
   "source": [
    "myDict = {\"name\": \"john\", \"country\": \"Norway\"}"
   ]
  },
  {
   "cell_type": "code",
   "execution_count": 106,
   "id": "c92807e7-a249-4f1d-a26e-c35ddf7a6bae",
   "metadata": {},
   "outputs": [],
   "source": [
    "mySeperator = \"TEST\""
   ]
  },
  {
   "cell_type": "code",
   "execution_count": 108,
   "id": "0d0ce105-d1c2-471f-ab86-b9cada556245",
   "metadata": {},
   "outputs": [],
   "source": [
    "x = mySeperator.join(myDict)"
   ]
  },
  {
   "cell_type": "code",
   "execution_count": 109,
   "id": "bba2eb62-bfb6-40d4-a784-d6fbdee76eb0",
   "metadata": {},
   "outputs": [
    {
     "data": {
      "text/plain": [
       "'nameTESTcountry'"
      ]
     },
     "execution_count": 109,
     "metadata": {},
     "output_type": "execute_result"
    }
   ],
   "source": [
    "x"
   ]
  },
  {
   "cell_type": "code",
   "execution_count": 110,
   "id": "90a99a24-7eff-4926-bbf9-940b29c85769",
   "metadata": {},
   "outputs": [],
   "source": [
    "txt = \"banana\""
   ]
  },
  {
   "cell_type": "code",
   "execution_count": 111,
   "id": "eff4dc12-d68f-4971-8cab-33629b7ce1ea",
   "metadata": {},
   "outputs": [],
   "source": [
    "x = txt.ljust(20)"
   ]
  },
  {
   "cell_type": "code",
   "execution_count": 112,
   "id": "41cc99f6-c2a1-4bed-b12e-af47c68faadf",
   "metadata": {},
   "outputs": [
    {
     "name": "stdout",
     "output_type": "stream",
     "text": [
      "banana               is my favourite fruit,\n"
     ]
    }
   ],
   "source": [
    "print(x, \"is my favourite fruit,\")"
   ]
  },
  {
   "cell_type": "code",
   "execution_count": 113,
   "id": "dc31cdf8-597e-45cb-8584-686d01f9cab0",
   "metadata": {},
   "outputs": [],
   "source": [
    "txt = \"banana\""
   ]
  },
  {
   "cell_type": "code",
   "execution_count": 115,
   "id": "984e9a1d-4499-45cb-9dcd-b70483a54eaa",
   "metadata": {},
   "outputs": [],
   "source": [
    "x = txt.ljust(20, \"0\")"
   ]
  },
  {
   "cell_type": "code",
   "execution_count": 116,
   "id": "5739aa42-76cb-4fc0-be29-71dc2bef578f",
   "metadata": {},
   "outputs": [
    {
     "data": {
      "text/plain": [
       "'banana00000000000000'"
      ]
     },
     "execution_count": 116,
     "metadata": {},
     "output_type": "execute_result"
    }
   ],
   "source": [
    "x"
   ]
  },
  {
   "cell_type": "code",
   "execution_count": 117,
   "id": "91462a2b-5f13-4eea-8bde-7e0f61944872",
   "metadata": {},
   "outputs": [],
   "source": [
    "txt = \"          banana      \""
   ]
  },
  {
   "cell_type": "code",
   "execution_count": 118,
   "id": "ff037c06-9b2c-4ab3-b263-056f90eeb517",
   "metadata": {},
   "outputs": [],
   "source": [
    "x = txt.lstrip()"
   ]
  },
  {
   "cell_type": "code",
   "execution_count": 119,
   "id": "c0733842-54b5-4118-bc20-e0e00df264c3",
   "metadata": {},
   "outputs": [
    {
     "data": {
      "text/plain": [
       "'banana      '"
      ]
     },
     "execution_count": 119,
     "metadata": {},
     "output_type": "execute_result"
    }
   ],
   "source": [
    "x"
   ]
  },
  {
   "cell_type": "code",
   "execution_count": 122,
   "id": "83167fa1-15d6-4ac3-810c-dc677b9afd72",
   "metadata": {},
   "outputs": [],
   "source": [
    "txt = \"Hello Sam\""
   ]
  },
  {
   "cell_type": "code",
   "execution_count": 123,
   "id": "d9ee2223-00da-452f-87e9-e87e24482edd",
   "metadata": {},
   "outputs": [],
   "source": [
    "myTable = str.maketrans(\"S\", \"P\")"
   ]
  },
  {
   "cell_type": "code",
   "execution_count": 124,
   "id": "8504baf0-cfd5-4df0-938c-69f8abe3fdeb",
   "metadata": {},
   "outputs": [
    {
     "data": {
      "text/plain": [
       "'Hello Pam'"
      ]
     },
     "execution_count": 124,
     "metadata": {},
     "output_type": "execute_result"
    }
   ],
   "source": [
    "txt.translate(myTable)"
   ]
  },
  {
   "cell_type": "code",
   "execution_count": 125,
   "id": "e2622ce4-1a21-4f70-94be-0dbdea5c92c2",
   "metadata": {},
   "outputs": [],
   "source": [
    "txt = \"I could eat bananas all day\""
   ]
  },
  {
   "cell_type": "code",
   "execution_count": 126,
   "id": "4932f7a8-2ecd-4b80-a68d-96034a6a434b",
   "metadata": {},
   "outputs": [],
   "source": [
    "x = txt.partition(\"bananas\")"
   ]
  },
  {
   "cell_type": "code",
   "execution_count": 127,
   "id": "4ebe9f84-f965-46c1-95af-03d8b7dbe0ff",
   "metadata": {},
   "outputs": [
    {
     "data": {
      "text/plain": [
       "('I could eat ', 'bananas', ' all day')"
      ]
     },
     "execution_count": 127,
     "metadata": {},
     "output_type": "execute_result"
    }
   ],
   "source": [
    "x"
   ]
  },
  {
   "cell_type": "code",
   "execution_count": 128,
   "id": "59d3e755-562a-4f6e-b37e-3cccafa16cfc",
   "metadata": {},
   "outputs": [],
   "source": [
    "x = \"I Could eat bananas all day\""
   ]
  },
  {
   "cell_type": "code",
   "execution_count": 129,
   "id": "bb1aa3a1-ce24-475f-80e3-91303dfe80d5",
   "metadata": {},
   "outputs": [],
   "source": [
    "x = txt.partition(\"apples\")"
   ]
  },
  {
   "cell_type": "code",
   "execution_count": 130,
   "id": "db43da4d-fe4c-4371-8727-773a42824093",
   "metadata": {},
   "outputs": [
    {
     "data": {
      "text/plain": [
       "('I could eat bananas all day', '', '')"
      ]
     },
     "execution_count": 130,
     "metadata": {},
     "output_type": "execute_result"
    }
   ],
   "source": [
    "x"
   ]
  },
  {
   "cell_type": "code",
   "execution_count": 131,
   "id": "a30874eb-00e9-4c20-88ed-5befc976b8f4",
   "metadata": {},
   "outputs": [],
   "source": [
    "txt = \"I like bananas\""
   ]
  },
  {
   "cell_type": "code",
   "execution_count": 132,
   "id": "f141084f-0f9d-4a22-98e6-b45ab10b5138",
   "metadata": {},
   "outputs": [],
   "source": [
    "x = txt.replace(\"bananas\", \"apples\")"
   ]
  },
  {
   "cell_type": "code",
   "execution_count": 133,
   "id": "f78f1885-ed15-4ecf-bc82-a86943427450",
   "metadata": {},
   "outputs": [
    {
     "data": {
      "text/plain": [
       "'I like apples'"
      ]
     },
     "execution_count": 133,
     "metadata": {},
     "output_type": "execute_result"
    }
   ],
   "source": [
    "x"
   ]
  },
  {
   "cell_type": "code",
   "execution_count": 135,
   "id": "145a2efb-0316-4811-b45d-932f20606ee4",
   "metadata": {},
   "outputs": [],
   "source": [
    "txt = \"One one was a race horse, two two was one too\""
   ]
  },
  {
   "cell_type": "code",
   "execution_count": 136,
   "id": "93e4d325-e6e9-47f3-a099-86550f6edf25",
   "metadata": {},
   "outputs": [],
   "source": [
    "x = txt.replace(\"one\", \"three\")"
   ]
  },
  {
   "cell_type": "code",
   "execution_count": 137,
   "id": "29dda140-1e9f-4d99-9fe1-49b67aa5fddb",
   "metadata": {},
   "outputs": [
    {
     "data": {
      "text/plain": [
       "'One three was a race horse, two two was three too'"
      ]
     },
     "execution_count": 137,
     "metadata": {},
     "output_type": "execute_result"
    }
   ],
   "source": [
    "x"
   ]
  },
  {
   "cell_type": "code",
   "execution_count": 138,
   "id": "3ee64dbc-9a7d-4a2d-a79b-628ab95090d0",
   "metadata": {},
   "outputs": [],
   "source": [
    "txt = \"One one was a race horse, two two was one too\""
   ]
  },
  {
   "cell_type": "code",
   "execution_count": 139,
   "id": "cf7029b3-8681-4f97-80ed-7d1917e0781c",
   "metadata": {},
   "outputs": [],
   "source": [
    "x = txt.replace(\"one\", \"three\", 2)"
   ]
  },
  {
   "cell_type": "code",
   "execution_count": 140,
   "id": "31a2525e-791e-4b07-ace5-7f019667a975",
   "metadata": {},
   "outputs": [
    {
     "data": {
      "text/plain": [
       "'One three was a race horse, two two was three too'"
      ]
     },
     "execution_count": 140,
     "metadata": {},
     "output_type": "execute_result"
    }
   ],
   "source": [
    "x"
   ]
  },
  {
   "cell_type": "code",
   "execution_count": 141,
   "id": "09a35413-7a7a-4a05-b242-dd7a85e2d765",
   "metadata": {},
   "outputs": [],
   "source": [
    "txt = \"mi cas, su casa.\""
   ]
  },
  {
   "cell_type": "code",
   "execution_count": 142,
   "id": "13b72bf2-7c0b-4fd6-8f76-104698524bf2",
   "metadata": {},
   "outputs": [],
   "source": [
    "x = txt.rfind(\"casa\")"
   ]
  },
  {
   "cell_type": "code",
   "execution_count": 143,
   "id": "4e79095b-1159-47c1-8674-8c237a1c0335",
   "metadata": {},
   "outputs": [
    {
     "data": {
      "text/plain": [
       "11"
      ]
     },
     "execution_count": 143,
     "metadata": {},
     "output_type": "execute_result"
    }
   ],
   "source": [
    "x"
   ]
  },
  {
   "cell_type": "code",
   "execution_count": 144,
   "id": "1c185362-870f-4afe-9465-23338852f706",
   "metadata": {},
   "outputs": [],
   "source": [
    "txt = \"Mi casa tu casa\""
   ]
  },
  {
   "cell_type": "code",
   "execution_count": 145,
   "id": "1876abed-acf7-499f-a3cb-3f6296086c3f",
   "metadata": {},
   "outputs": [],
   "source": [
    "x = txt.rfind(\"casa\")"
   ]
  },
  {
   "cell_type": "code",
   "execution_count": 146,
   "id": "5a357a4f-ccce-42ea-b781-986b01ad4bfe",
   "metadata": {},
   "outputs": [
    {
     "data": {
      "text/plain": [
       "11"
      ]
     },
     "execution_count": 146,
     "metadata": {},
     "output_type": "execute_result"
    }
   ],
   "source": [
    "x"
   ]
  },
  {
   "cell_type": "code",
   "execution_count": 147,
   "id": "13f2c553-09b1-4186-8406-c353c6fc9253",
   "metadata": {},
   "outputs": [],
   "source": [
    "txt = \"banana\""
   ]
  },
  {
   "cell_type": "code",
   "execution_count": 148,
   "id": "7b9e69d1-b904-471d-98b4-be1cf07b5d16",
   "metadata": {},
   "outputs": [],
   "source": [
    "x = txt.rjust(20)"
   ]
  },
  {
   "cell_type": "code",
   "execution_count": 149,
   "id": "4dc24a79-742c-4053-ad0b-e7e1d92a8cae",
   "metadata": {},
   "outputs": [
    {
     "data": {
      "text/plain": [
       "'              banana'"
      ]
     },
     "execution_count": 149,
     "metadata": {},
     "output_type": "execute_result"
    }
   ],
   "source": [
    "x"
   ]
  },
  {
   "cell_type": "code",
   "execution_count": 150,
   "id": "8a7d7e14-e3a5-4b9d-842e-5673f821790d",
   "metadata": {},
   "outputs": [
    {
     "name": "stdout",
     "output_type": "stream",
     "text": [
      "              banana is my favourite fruit,\n"
     ]
    }
   ],
   "source": [
    "print(x, \"is my favourite fruit,\")"
   ]
  },
  {
   "cell_type": "code",
   "execution_count": 151,
   "id": "2a6b486a-081f-4f3a-be9a-bc8238ba2fbe",
   "metadata": {},
   "outputs": [],
   "source": [
    "x = txt.rjust(20, \"0\")"
   ]
  },
  {
   "cell_type": "code",
   "execution_count": 152,
   "id": "5bd5efe6-3868-42c1-bc1d-7653e7ed6b2b",
   "metadata": {},
   "outputs": [
    {
     "data": {
      "text/plain": [
       "'00000000000000banana'"
      ]
     },
     "execution_count": 152,
     "metadata": {},
     "output_type": "execute_result"
    }
   ],
   "source": [
    "x"
   ]
  },
  {
   "cell_type": "code",
   "execution_count": 153,
   "id": "ff06e398-7059-4162-9e78-3bc4f16d861e",
   "metadata": {},
   "outputs": [],
   "source": [
    "txt = \"I could eat bananas all day, bananas are my favorite fruit\""
   ]
  },
  {
   "cell_type": "code",
   "execution_count": 154,
   "id": "25d649e4-94e9-4181-8a0b-de885e7c0c78",
   "metadata": {},
   "outputs": [],
   "source": [
    "x = txt.rpartition(\"bananas\")"
   ]
  },
  {
   "cell_type": "code",
   "execution_count": 155,
   "id": "7029929c-b45e-4e01-b537-b9e93070fca2",
   "metadata": {},
   "outputs": [
    {
     "data": {
      "text/plain": [
       "('I could eat bananas all day, ', 'bananas', ' are my favorite fruit')"
      ]
     },
     "execution_count": 155,
     "metadata": {},
     "output_type": "execute_result"
    }
   ],
   "source": [
    "x"
   ]
  },
  {
   "cell_type": "code",
   "execution_count": 164,
   "id": "64a14ca9-d930-4219-bc4b-26975a11bd7e",
   "metadata": {},
   "outputs": [],
   "source": [
    "txt = \"apple\", \"bananda\", \"cherry\""
   ]
  },
  {
   "cell_type": "code",
   "execution_count": 165,
   "id": "2e620c8e-9312-49c0-a425-ab18c2e55d41",
   "metadata": {},
   "outputs": [
    {
     "ename": "AttributeError",
     "evalue": "'tuple' object has no attribute 'split'",
     "output_type": "error",
     "traceback": [
      "\u001b[1;31m---------------------------------------------------------------------------\u001b[0m",
      "\u001b[1;31mAttributeError\u001b[0m                            Traceback (most recent call last)",
      "Cell \u001b[1;32mIn[165], line 1\u001b[0m\n\u001b[1;32m----> 1\u001b[0m x \u001b[38;5;241m=\u001b[39m \u001b[43mtxt\u001b[49m\u001b[38;5;241;43m.\u001b[39;49m\u001b[43msplit\u001b[49m()\n",
      "\u001b[1;31mAttributeError\u001b[0m: 'tuple' object has no attribute 'split'"
     ]
    }
   ],
   "source": [
    "x = txt.split()"
   ]
  },
  {
   "cell_type": "code",
   "execution_count": 167,
   "id": "3910765c-8edc-4dc9-96e3-4d5941d5b0da",
   "metadata": {},
   "outputs": [
    {
     "name": "stdout",
     "output_type": "stream",
     "text": [
      "['apple', 'banana', 'cherry']\n"
     ]
    }
   ],
   "source": [
    "txt = \"apple, banana, cherry\"\n",
    "\n",
    "x = txt.rsplit(\", \")\n",
    "\n",
    "print(x)"
   ]
  },
  {
   "cell_type": "code",
   "execution_count": 168,
   "id": "2fa15fef-f8a3-43b1-a532-785a7fa0529d",
   "metadata": {},
   "outputs": [],
   "source": [
    "txt = \"apple, banana, cherry\""
   ]
  },
  {
   "cell_type": "code",
   "execution_count": 169,
   "id": "cc036e51-1313-427d-a9fb-bb9433d043d6",
   "metadata": {},
   "outputs": [],
   "source": [
    "c = txt.split()"
   ]
  },
  {
   "cell_type": "code",
   "execution_count": 170,
   "id": "273abd8a-b8e5-482e-bf44-634e2a148fab",
   "metadata": {},
   "outputs": [
    {
     "data": {
      "text/plain": [
       "['apple,', 'banana,', 'cherry']"
      ]
     },
     "execution_count": 170,
     "metadata": {},
     "output_type": "execute_result"
    }
   ],
   "source": [
    "c"
   ]
  },
  {
   "cell_type": "code",
   "execution_count": 171,
   "id": "c0f16c88-7748-4410-bae5-586fd7cbfbb1",
   "metadata": {},
   "outputs": [],
   "source": [
    "txt = \"     banana   \""
   ]
  },
  {
   "cell_type": "code",
   "execution_count": 172,
   "id": "36ec58aa-f773-42ad-ad3f-ccf205936ca0",
   "metadata": {},
   "outputs": [],
   "source": [
    "x = txt.rstrip()"
   ]
  },
  {
   "cell_type": "code",
   "execution_count": 173,
   "id": "a001f5de-4da4-455f-815f-252c49de4e45",
   "metadata": {},
   "outputs": [
    {
     "data": {
      "text/plain": [
       "'     banana'"
      ]
     },
     "execution_count": 173,
     "metadata": {},
     "output_type": "execute_result"
    }
   ],
   "source": [
    "x"
   ]
  },
  {
   "cell_type": "code",
   "execution_count": 174,
   "id": "c525bd92-0e65-4ed6-8502-367a8a20b6bf",
   "metadata": {},
   "outputs": [],
   "source": [
    "txt = \"banana,,,,,ssqqqww.....\""
   ]
  },
  {
   "cell_type": "code",
   "execution_count": 175,
   "id": "70b49905-0544-4b9a-bc6b-ff8d519db390",
   "metadata": {},
   "outputs": [],
   "source": [
    "x = txt.rstrip(\",.qsw\")"
   ]
  },
  {
   "cell_type": "code",
   "execution_count": 176,
   "id": "c3659899-7a0e-43e0-8136-c23ea4da1d0a",
   "metadata": {},
   "outputs": [
    {
     "data": {
      "text/plain": [
       "'banana'"
      ]
     },
     "execution_count": 176,
     "metadata": {},
     "output_type": "execute_result"
    }
   ],
   "source": [
    "x"
   ]
  },
  {
   "cell_type": "code",
   "execution_count": 177,
   "id": "98f31326-816e-4b03-8285-71b1d1c0bd37",
   "metadata": {},
   "outputs": [],
   "source": [
    "txt = \"Welcome to the jungle\""
   ]
  },
  {
   "cell_type": "code",
   "execution_count": 178,
   "id": "283008e0-da7f-420a-aaa6-163c52624a9b",
   "metadata": {},
   "outputs": [],
   "source": [
    "x = txt.split()"
   ]
  },
  {
   "cell_type": "code",
   "execution_count": 179,
   "id": "d61eb40b-dcd6-4e9a-a27d-ac6369a6f075",
   "metadata": {},
   "outputs": [
    {
     "data": {
      "text/plain": [
       "['Welcome', 'to', 'the', 'jungle']"
      ]
     },
     "execution_count": 179,
     "metadata": {},
     "output_type": "execute_result"
    }
   ],
   "source": [
    "x"
   ]
  },
  {
   "cell_type": "code",
   "execution_count": 180,
   "id": "1131e7ce-6718-4d9c-8781-62a2d13fa6ef",
   "metadata": {},
   "outputs": [],
   "source": [
    "txt = \"hello, my name is Peter, I am 26 years old\""
   ]
  },
  {
   "cell_type": "code",
   "execution_count": 181,
   "id": "a24dde8e-1ece-45da-b858-ef02d8e71047",
   "metadata": {},
   "outputs": [],
   "source": [
    "x = txt.split(\",\")"
   ]
  },
  {
   "cell_type": "code",
   "execution_count": 182,
   "id": "f37af1fe-bc2b-4035-983c-f1bdf3e1d875",
   "metadata": {},
   "outputs": [
    {
     "data": {
      "text/plain": [
       "['hello', ' my name is Peter', ' I am 26 years old']"
      ]
     },
     "execution_count": 182,
     "metadata": {},
     "output_type": "execute_result"
    }
   ],
   "source": [
    "x"
   ]
  },
  {
   "cell_type": "code",
   "execution_count": 183,
   "id": "0a56df33-9595-44dc-acb9-0c5b18aafbb8",
   "metadata": {},
   "outputs": [],
   "source": [
    "txt = \"apple#banana#cherry#orange\""
   ]
  },
  {
   "cell_type": "code",
   "execution_count": 184,
   "id": "73d81aa8-7013-418d-8357-bc8d7df531b6",
   "metadata": {},
   "outputs": [],
   "source": [
    "x = txt.split(\"#\")"
   ]
  },
  {
   "cell_type": "code",
   "execution_count": 185,
   "id": "7c1393b7-f41c-4677-bdeb-9f3a53f16e65",
   "metadata": {},
   "outputs": [
    {
     "data": {
      "text/plain": [
       "['apple', 'banana', 'cherry', 'orange']"
      ]
     },
     "execution_count": 185,
     "metadata": {},
     "output_type": "execute_result"
    }
   ],
   "source": [
    "x"
   ]
  },
  {
   "cell_type": "code",
   "execution_count": 186,
   "id": "da01917d-d870-4718-b307-e2015aa7c16f",
   "metadata": {},
   "outputs": [],
   "source": [
    "x = txt.split(\"#\", 1)"
   ]
  },
  {
   "cell_type": "code",
   "execution_count": 187,
   "id": "fb1b2928-2f9c-4829-8fc6-a7dc3671c99f",
   "metadata": {},
   "outputs": [
    {
     "data": {
      "text/plain": [
       "['apple', 'banana#cherry#orange']"
      ]
     },
     "execution_count": 187,
     "metadata": {},
     "output_type": "execute_result"
    }
   ],
   "source": [
    "x"
   ]
  },
  {
   "cell_type": "code",
   "execution_count": 188,
   "id": "fc2598c4-9148-4684-8284-a725acdf66ec",
   "metadata": {},
   "outputs": [],
   "source": [
    "txt = \"Thank you for the music\\nWelcome to the jungle\""
   ]
  },
  {
   "cell_type": "code",
   "execution_count": 189,
   "id": "9bcbb301-7cd4-4a51-b3af-34467bb25153",
   "metadata": {},
   "outputs": [],
   "source": [
    "x = txt.splitlines()"
   ]
  },
  {
   "cell_type": "code",
   "execution_count": 190,
   "id": "3dc6d22f-cb44-4ab2-b999-18989c83c162",
   "metadata": {},
   "outputs": [
    {
     "data": {
      "text/plain": [
       "['Thank you for the music', 'Welcome to the jungle']"
      ]
     },
     "execution_count": 190,
     "metadata": {},
     "output_type": "execute_result"
    }
   ],
   "source": [
    "x"
   ]
  },
  {
   "cell_type": "code",
   "execution_count": 191,
   "id": "32cf3786-5df4-4b81-8c53-d5f047ebf5bf",
   "metadata": {},
   "outputs": [],
   "source": [
    "txt = \"Hello, welcome to my world.\""
   ]
  },
  {
   "cell_type": "code",
   "execution_count": 192,
   "id": "8a117965-ba83-4ab4-8ca4-ff6a88961518",
   "metadata": {},
   "outputs": [],
   "source": [
    "x = txt.startswith(\"Hello\")"
   ]
  },
  {
   "cell_type": "code",
   "execution_count": 193,
   "id": "6d30145d-50ff-4fff-8f0c-0359ca492656",
   "metadata": {},
   "outputs": [
    {
     "data": {
      "text/plain": [
       "True"
      ]
     },
     "execution_count": 193,
     "metadata": {},
     "output_type": "execute_result"
    }
   ],
   "source": [
    "x"
   ]
  },
  {
   "cell_type": "code",
   "execution_count": 194,
   "id": "00d6af3c-182b-42eb-941a-df2b0d584ee1",
   "metadata": {},
   "outputs": [],
   "source": [
    "txt = \"Hello, welcome to my world.\""
   ]
  },
  {
   "cell_type": "code",
   "execution_count": 197,
   "id": "dcc709e4-799a-4155-b665-5a192314df6c",
   "metadata": {},
   "outputs": [],
   "source": [
    "x = txt.startswith(\"wel\", 7,20)"
   ]
  },
  {
   "cell_type": "code",
   "execution_count": 198,
   "id": "44de0b56-3e48-4acd-8db2-575cfb3b8682",
   "metadata": {},
   "outputs": [
    {
     "data": {
      "text/plain": [
       "True"
      ]
     },
     "execution_count": 198,
     "metadata": {},
     "output_type": "execute_result"
    }
   ],
   "source": [
    "x"
   ]
  },
  {
   "cell_type": "code",
   "execution_count": 199,
   "id": "ce98930d-8a67-4030-9101-c33f6d409034",
   "metadata": {},
   "outputs": [],
   "source": [
    "x = txt.startswith((\"Hello\", \"Hi\"))"
   ]
  },
  {
   "cell_type": "code",
   "execution_count": 200,
   "id": "ba5cd32b-b043-46f8-92b3-ee05e80be47a",
   "metadata": {},
   "outputs": [
    {
     "data": {
      "text/plain": [
       "True"
      ]
     },
     "execution_count": 200,
     "metadata": {},
     "output_type": "execute_result"
    }
   ],
   "source": [
    "x"
   ]
  },
  {
   "cell_type": "code",
   "execution_count": 201,
   "id": "4e7f6047-3d35-43c4-9ce5-9fd32536fc03",
   "metadata": {},
   "outputs": [],
   "source": [
    "txt = \"       banana    \""
   ]
  },
  {
   "cell_type": "code",
   "execution_count": 202,
   "id": "e8a6bd74-80f6-45cf-bbef-580c723e48e8",
   "metadata": {},
   "outputs": [],
   "source": [
    "x = txt.strip()"
   ]
  },
  {
   "cell_type": "code",
   "execution_count": 203,
   "id": "8541a117-9299-4a72-84ea-b5346744c1f9",
   "metadata": {},
   "outputs": [
    {
     "data": {
      "text/plain": [
       "'banana'"
      ]
     },
     "execution_count": 203,
     "metadata": {},
     "output_type": "execute_result"
    }
   ],
   "source": [
    "x"
   ]
  },
  {
   "cell_type": "code",
   "execution_count": 207,
   "id": "4de4025f-2c50-4f51-9b5e-432e83ae4335",
   "metadata": {},
   "outputs": [],
   "source": [
    "txt = \",,,,,rrttgg.....banana....rrr\""
   ]
  },
  {
   "cell_type": "code",
   "execution_count": 208,
   "id": "8f59433d-7654-4f77-88d0-df905bb238dd",
   "metadata": {},
   "outputs": [],
   "source": [
    "x = txt.strip(\",.grt\")"
   ]
  },
  {
   "cell_type": "code",
   "execution_count": 209,
   "id": "94b2444f-f38f-4d34-83fd-6e59b5dee305",
   "metadata": {},
   "outputs": [
    {
     "data": {
      "text/plain": [
       "'banana'"
      ]
     },
     "execution_count": 209,
     "metadata": {},
     "output_type": "execute_result"
    }
   ],
   "source": [
    "x"
   ]
  },
  {
   "cell_type": "code",
   "execution_count": 210,
   "id": "c4966b46-e5b7-4691-81c2-5dffb4cf0c8d",
   "metadata": {},
   "outputs": [],
   "source": [
    "txt = \"Hello My name is Peter\""
   ]
  },
  {
   "cell_type": "code",
   "execution_count": 211,
   "id": "53354322-b25d-465b-9676-2855c944b1f4",
   "metadata": {},
   "outputs": [],
   "source": [
    "x = txt.swapcase()"
   ]
  },
  {
   "cell_type": "code",
   "execution_count": 213,
   "id": "4076e7c3-3c11-479a-a9e9-0398de49131d",
   "metadata": {},
   "outputs": [
    {
     "data": {
      "text/plain": [
       "'hELLO mY NAME IS pETER'"
      ]
     },
     "execution_count": 213,
     "metadata": {},
     "output_type": "execute_result"
    }
   ],
   "source": [
    "x"
   ]
  },
  {
   "cell_type": "code",
   "execution_count": 214,
   "id": "14b028fd-c98e-41ce-89b6-8190c5ec5abd",
   "metadata": {},
   "outputs": [],
   "source": [
    "txt = \"Welcome to my world\""
   ]
  },
  {
   "cell_type": "code",
   "execution_count": 215,
   "id": "83e2b8e5-b41b-41ea-93dd-429d33455f1e",
   "metadata": {},
   "outputs": [],
   "source": [
    "x = txt.title()"
   ]
  },
  {
   "cell_type": "code",
   "execution_count": 216,
   "id": "0216fe94-4386-4a5d-a4e1-bba898a304d7",
   "metadata": {},
   "outputs": [
    {
     "data": {
      "text/plain": [
       "'Welcome To My World'"
      ]
     },
     "execution_count": 216,
     "metadata": {},
     "output_type": "execute_result"
    }
   ],
   "source": [
    "x"
   ]
  },
  {
   "cell_type": "code",
   "execution_count": 217,
   "id": "b30cbfe6-deba-4a23-a5fd-9804f39ae4c4",
   "metadata": {},
   "outputs": [],
   "source": [
    "txt = \"50\""
   ]
  },
  {
   "cell_type": "code",
   "execution_count": 218,
   "id": "d6604108-d4e6-4088-88d9-02c603346985",
   "metadata": {},
   "outputs": [],
   "source": [
    "x = txt.zfill(10)"
   ]
  },
  {
   "cell_type": "code",
   "execution_count": 219,
   "id": "9a127536-2b80-4d76-8844-3503fedc1204",
   "metadata": {},
   "outputs": [
    {
     "data": {
      "text/plain": [
       "'0000000050'"
      ]
     },
     "execution_count": 219,
     "metadata": {},
     "output_type": "execute_result"
    }
   ],
   "source": [
    "x"
   ]
  },
  {
   "cell_type": "code",
   "execution_count": 220,
   "id": "7b3da0c7-b868-45b5-b750-8b7942bea8d2",
   "metadata": {},
   "outputs": [],
   "source": [
    "a = \"hello\"\n",
    "b = \"welcome to the jungle\"\n",
    "c = \"10.000\""
   ]
  },
  {
   "cell_type": "code",
   "execution_count": 221,
   "id": "bf1b2d5e-a5ba-46a0-bfaf-e3973ba59f2a",
   "metadata": {},
   "outputs": [
    {
     "data": {
      "text/plain": [
       "'00000hello'"
      ]
     },
     "execution_count": 221,
     "metadata": {},
     "output_type": "execute_result"
    }
   ],
   "source": [
    "a.zfill(10)"
   ]
  },
  {
   "cell_type": "code",
   "execution_count": 222,
   "id": "917933be-a8c3-4564-89c6-80ee7b252247",
   "metadata": {},
   "outputs": [
    {
     "data": {
      "text/plain": [
       "'welcome to the jungle'"
      ]
     },
     "execution_count": 222,
     "metadata": {},
     "output_type": "execute_result"
    }
   ],
   "source": [
    "b.zfill(10)"
   ]
  },
  {
   "cell_type": "code",
   "execution_count": 223,
   "id": "ed3efc51-11e9-43c2-bdf1-12a624461362",
   "metadata": {},
   "outputs": [
    {
     "data": {
      "text/plain": [
       "'000010.000'"
      ]
     },
     "execution_count": 223,
     "metadata": {},
     "output_type": "execute_result"
    }
   ],
   "source": [
    "c.zfill(10)"
   ]
  },
  {
   "cell_type": "code",
   "execution_count": 224,
   "id": "e37e8438-d5cb-4d0a-89d0-44547cc48a03",
   "metadata": {},
   "outputs": [],
   "source": [
    "a = 200\n",
    "b = 33"
   ]
  },
  {
   "cell_type": "code",
   "execution_count": 225,
   "id": "1315be37-b5de-4a82-abf6-02b9622600b9",
   "metadata": {},
   "outputs": [
    {
     "name": "stdout",
     "output_type": "stream",
     "text": [
      "a is greater than b\n"
     ]
    }
   ],
   "source": [
    "if b>a:\n",
    "    print(\"b is greater than a\")\n",
    "else:\n",
    "    print(\"a is greater than b\")"
   ]
  },
  {
   "cell_type": "code",
   "execution_count": 226,
   "id": "8674658a-4abf-4d05-bdc5-bf4668b49f20",
   "metadata": {},
   "outputs": [
    {
     "data": {
      "text/plain": [
       "True"
      ]
     },
     "execution_count": 226,
     "metadata": {},
     "output_type": "execute_result"
    }
   ],
   "source": [
    "bool(\"Hello\")"
   ]
  },
  {
   "cell_type": "code",
   "execution_count": 227,
   "id": "4743450f-5d4b-4adf-83b1-42ba425e5345",
   "metadata": {},
   "outputs": [
    {
     "data": {
      "text/plain": [
       "True"
      ]
     },
     "execution_count": 227,
     "metadata": {},
     "output_type": "execute_result"
    }
   ],
   "source": [
    "bool(15)"
   ]
  },
  {
   "cell_type": "code",
   "execution_count": 231,
   "id": "c2d154f8-9594-4e41-9ba7-a631280c0778",
   "metadata": {},
   "outputs": [],
   "source": [
    "x = 15\n",
    "y = 3"
   ]
  },
  {
   "cell_type": "code",
   "execution_count": 232,
   "id": "3f2041d3-c487-4d3d-afad-225540246062",
   "metadata": {},
   "outputs": [
    {
     "name": "stdout",
     "output_type": "stream",
     "text": [
      "18\n",
      "12\n",
      "45\n",
      "5.0\n",
      "0\n",
      "3375\n",
      "5\n"
     ]
    }
   ],
   "source": [
    "print(x+y)\n",
    "print(x-y)\n",
    "print(x*y)\n",
    "print(x/y)\n",
    "print(x%y)\n",
    "print(x**y)\n",
    "print(x//y)"
   ]
  },
  {
   "cell_type": "code",
   "execution_count": 233,
   "id": "3c835802-adc5-4264-85f9-3670e132d6a4",
   "metadata": {},
   "outputs": [],
   "source": [
    "numbers = [1, 2, 3, 4, 5]"
   ]
  },
  {
   "cell_type": "code",
   "execution_count": 234,
   "id": "13f82baf-f7d6-4700-987f-283eb9fcceba",
   "metadata": {},
   "outputs": [],
   "source": [
    "count = len(numbers)"
   ]
  },
  {
   "cell_type": "code",
   "execution_count": 235,
   "id": "219bf2fc-e80b-4896-aec2-dfadc4310f0e",
   "metadata": {},
   "outputs": [
    {
     "data": {
      "text/plain": [
       "5"
      ]
     },
     "execution_count": 235,
     "metadata": {},
     "output_type": "execute_result"
    }
   ],
   "source": [
    "count"
   ]
  },
  {
   "cell_type": "code",
   "execution_count": 236,
   "id": "8a24b5ae-0e12-429b-9d82-7b500af6fe60",
   "metadata": {},
   "outputs": [
    {
     "name": "stdout",
     "output_type": "stream",
     "text": [
      "List has 5 elements\n"
     ]
    }
   ],
   "source": [
    "if count > 3:\n",
    "    print(f\"List has {count} elements\")"
   ]
  },
  {
   "cell_type": "code",
   "execution_count": 237,
   "id": "5bb83f86-a034-411d-b18e-b68148060cac",
   "metadata": {},
   "outputs": [
    {
     "name": "stdout",
     "output_type": "stream",
     "text": [
      "List has 5 elements\n"
     ]
    }
   ],
   "source": [
    "if (count := len(numbers))>3:\n",
    "    print(f\"List has {count} elements\")"
   ]
  },
  {
   "cell_type": "code",
   "execution_count": 238,
   "id": "d61dea86-6904-40b4-ada7-c130ff98ce2d",
   "metadata": {},
   "outputs": [],
   "source": [
    "x = 5"
   ]
  },
  {
   "cell_type": "code",
   "execution_count": 239,
   "id": "b9dc5476-33eb-4b43-8dee-673a2d1d345f",
   "metadata": {},
   "outputs": [],
   "source": [
    "x += 3"
   ]
  },
  {
   "cell_type": "code",
   "execution_count": 240,
   "id": "da16d820-aff6-4930-b1bd-18a8249f07cd",
   "metadata": {},
   "outputs": [
    {
     "data": {
      "text/plain": [
       "8"
      ]
     },
     "execution_count": 240,
     "metadata": {},
     "output_type": "execute_result"
    }
   ],
   "source": [
    "x"
   ]
  },
  {
   "cell_type": "code",
   "execution_count": 257,
   "id": "c7136be2-8247-40c3-878e-f724f84be71a",
   "metadata": {},
   "outputs": [],
   "source": [
    "txt = \"my name\""
   ]
  },
  {
   "cell_type": "code",
   "execution_count": 246,
   "id": "d92133f7-7737-4965-9c7d-bc9b0e0138a1",
   "metadata": {},
   "outputs": [],
   "source": [
    "x = txt.capitalize()"
   ]
  },
  {
   "cell_type": "code",
   "execution_count": 247,
   "id": "3a777e49-20a7-4872-bf4b-0266b4a87487",
   "metadata": {},
   "outputs": [
    {
     "data": {
      "text/plain": [
       "'My name'"
      ]
     },
     "execution_count": 247,
     "metadata": {},
     "output_type": "execute_result"
    }
   ],
   "source": [
    "x"
   ]
  },
  {
   "cell_type": "code",
   "execution_count": 248,
   "id": "c4d60cf5-cb52-4ad0-8a4a-93ddd4afc5ce",
   "metadata": {},
   "outputs": [],
   "source": [
    "x = txt.title()"
   ]
  },
  {
   "cell_type": "code",
   "execution_count": 249,
   "id": "47bcb7db-d2be-4ee5-a92a-222f5059ac82",
   "metadata": {},
   "outputs": [
    {
     "data": {
      "text/plain": [
       "'My Name'"
      ]
     },
     "execution_count": 249,
     "metadata": {},
     "output_type": "execute_result"
    }
   ],
   "source": [
    "x"
   ]
  },
  {
   "cell_type": "code",
   "execution_count": 250,
   "id": "bd241b4e-fa7c-4283-926d-b184019baa9c",
   "metadata": {},
   "outputs": [],
   "source": [
    "x = txt.upper()"
   ]
  },
  {
   "cell_type": "code",
   "execution_count": 251,
   "id": "28760d39-8f5c-4e7c-abf3-5d4766d09c2c",
   "metadata": {},
   "outputs": [
    {
     "data": {
      "text/plain": [
       "'MY NAME'"
      ]
     },
     "execution_count": 251,
     "metadata": {},
     "output_type": "execute_result"
    }
   ],
   "source": [
    "x"
   ]
  },
  {
   "cell_type": "code",
   "execution_count": 252,
   "id": "035dce07-9142-4b97-8460-169faf400869",
   "metadata": {},
   "outputs": [],
   "source": [
    "x = txt.lower()"
   ]
  },
  {
   "cell_type": "code",
   "execution_count": 253,
   "id": "1be905a3-a71a-4e42-b304-a0faea88fa70",
   "metadata": {},
   "outputs": [
    {
     "data": {
      "text/plain": [
       "'my name'"
      ]
     },
     "execution_count": 253,
     "metadata": {},
     "output_type": "execute_result"
    }
   ],
   "source": [
    "x"
   ]
  },
  {
   "cell_type": "code",
   "execution_count": 258,
   "id": "37e4dcdd-8c17-436b-b594-f81cb8a6ea6a",
   "metadata": {},
   "outputs": [],
   "source": [
    "txt = \"bro\""
   ]
  },
  {
   "cell_type": "code",
   "execution_count": 260,
   "id": "d620d2e9-fc09-42b6-b081-55686d12794c",
   "metadata": {},
   "outputs": [],
   "source": [
    "x = txt.center(20)"
   ]
  },
  {
   "cell_type": "code",
   "execution_count": 261,
   "id": "041408b1-047c-4cc6-80d2-074769958406",
   "metadata": {},
   "outputs": [
    {
     "data": {
      "text/plain": [
       "'        bro         '"
      ]
     },
     "execution_count": 261,
     "metadata": {},
     "output_type": "execute_result"
    }
   ],
   "source": [
    "x"
   ]
  },
  {
   "cell_type": "code",
   "execution_count": 262,
   "id": "063a7dfe-204f-4aab-8764-cf7ab6c33c95",
   "metadata": {},
   "outputs": [
    {
     "data": {
      "text/plain": [
       "20"
      ]
     },
     "execution_count": 262,
     "metadata": {},
     "output_type": "execute_result"
    }
   ],
   "source": [
    "len(x)"
   ]
  },
  {
   "cell_type": "code",
   "execution_count": 263,
   "id": "bfb5160b-6716-4126-b17f-4a7673137538",
   "metadata": {},
   "outputs": [],
   "source": [
    "txt = \"my name\""
   ]
  },
  {
   "cell_type": "code",
   "execution_count": 266,
   "id": "bc149a87-ce4c-49ba-a059-e945e43a6453",
   "metadata": {},
   "outputs": [],
   "source": [
    "x = txt.count(\"name\")"
   ]
  },
  {
   "cell_type": "code",
   "execution_count": 267,
   "id": "91a573f3-9885-49e8-b471-25e362bcb75d",
   "metadata": {},
   "outputs": [
    {
     "data": {
      "text/plain": [
       "1"
      ]
     },
     "execution_count": 267,
     "metadata": {},
     "output_type": "execute_result"
    }
   ],
   "source": [
    "x"
   ]
  },
  {
   "cell_type": "code",
   "execution_count": 268,
   "id": "13276e66-3d39-447b-8bfb-7ee2a73e1666",
   "metadata": {},
   "outputs": [],
   "source": [
    "txt = \"my name\""
   ]
  },
  {
   "cell_type": "code",
   "execution_count": 269,
   "id": "6bc3af86-f74f-4772-8c87-35087b1c8cbc",
   "metadata": {},
   "outputs": [],
   "source": [
    "x = txt[4]"
   ]
  },
  {
   "cell_type": "code",
   "execution_count": 270,
   "id": "511d4a77-17c3-4832-9870-5d20bc953925",
   "metadata": {},
   "outputs": [
    {
     "data": {
      "text/plain": [
       "'a'"
      ]
     },
     "execution_count": 270,
     "metadata": {},
     "output_type": "execute_result"
    }
   ],
   "source": [
    "x"
   ]
  },
  {
   "cell_type": "code",
   "execution_count": 271,
   "id": "109e83be-33b9-4fcb-bc64-a28c85c2d488",
   "metadata": {},
   "outputs": [],
   "source": [
    "x= txt[-3]"
   ]
  },
  {
   "cell_type": "code",
   "execution_count": 272,
   "id": "4fbf858b-8be8-4bb5-8afb-05b7ba75fd22",
   "metadata": {},
   "outputs": [
    {
     "data": {
      "text/plain": [
       "'a'"
      ]
     },
     "execution_count": 272,
     "metadata": {},
     "output_type": "execute_result"
    }
   ],
   "source": [
    "x"
   ]
  },
  {
   "cell_type": "code",
   "execution_count": 279,
   "id": "591dfa12-3c89-4957-b44f-5cfd4e6a472b",
   "metadata": {},
   "outputs": [],
   "source": [
    "x = txt.split(\" \")[1]"
   ]
  },
  {
   "cell_type": "code",
   "execution_count": 280,
   "id": "4813cfd5-1f6c-4551-9408-336f044d6c1a",
   "metadata": {},
   "outputs": [
    {
     "data": {
      "text/plain": [
       "'name'"
      ]
     },
     "execution_count": 280,
     "metadata": {},
     "output_type": "execute_result"
    }
   ],
   "source": [
    "x"
   ]
  },
  {
   "cell_type": "code",
   "execution_count": 277,
   "id": "58c6bc17-fdc4-4d33-8a33-ec553daf1539",
   "metadata": {},
   "outputs": [],
   "source": [
    "a = x[1]"
   ]
  },
  {
   "cell_type": "code",
   "execution_count": 278,
   "id": "92e3bc11-34b7-4d38-9baf-eb0dedd52038",
   "metadata": {},
   "outputs": [
    {
     "data": {
      "text/plain": [
       "'name'"
      ]
     },
     "execution_count": 278,
     "metadata": {},
     "output_type": "execute_result"
    }
   ],
   "source": [
    "a"
   ]
  },
  {
   "cell_type": "code",
   "execution_count": 281,
   "id": "c6469ea1-2c66-4923-9a7f-6aa9cd42b34c",
   "metadata": {},
   "outputs": [],
   "source": [
    "x = 5"
   ]
  },
  {
   "cell_type": "code",
   "execution_count": 282,
   "id": "0b94aa07-527e-4ffd-b9c2-823042d08f3b",
   "metadata": {},
   "outputs": [
    {
     "data": {
      "text/plain": [
       "int"
      ]
     },
     "execution_count": 282,
     "metadata": {},
     "output_type": "execute_result"
    }
   ],
   "source": [
    "type(x)"
   ]
  },
  {
   "cell_type": "code",
   "execution_count": 285,
   "id": "f5c04b2d-6bb1-45e7-adca-26e439012ce1",
   "metadata": {},
   "outputs": [],
   "source": [
    "a = str(x)"
   ]
  },
  {
   "cell_type": "code",
   "execution_count": 286,
   "id": "89a3c54a-6f4e-4c30-96f0-987fc0b479a2",
   "metadata": {},
   "outputs": [
    {
     "data": {
      "text/plain": [
       "'5'"
      ]
     },
     "execution_count": 286,
     "metadata": {},
     "output_type": "execute_result"
    }
   ],
   "source": [
    "a"
   ]
  },
  {
   "cell_type": "code",
   "execution_count": 287,
   "id": "4326fb43-07e6-4022-8dd9-5ece8eb8712c",
   "metadata": {},
   "outputs": [
    {
     "data": {
      "text/plain": [
       "str"
      ]
     },
     "execution_count": 287,
     "metadata": {},
     "output_type": "execute_result"
    }
   ],
   "source": [
    "type(a)"
   ]
  },
  {
   "cell_type": "code",
   "execution_count": 288,
   "id": "de7b25a4-4784-468f-ab96-092777f329d9",
   "metadata": {},
   "outputs": [
    {
     "data": {
      "text/plain": [
       "int"
      ]
     },
     "execution_count": 288,
     "metadata": {},
     "output_type": "execute_result"
    }
   ],
   "source": [
    "type(x)"
   ]
  },
  {
   "cell_type": "code",
   "execution_count": 289,
   "id": "3286227c-d7ed-48be-b31e-e480fc98c4da",
   "metadata": {},
   "outputs": [],
   "source": [
    "x = 5"
   ]
  },
  {
   "cell_type": "code",
   "execution_count": 290,
   "id": "2c90c7cc-849e-44b3-a0ee-ebd7d676652f",
   "metadata": {},
   "outputs": [
    {
     "data": {
      "text/plain": [
       "5"
      ]
     },
     "execution_count": 290,
     "metadata": {},
     "output_type": "execute_result"
    }
   ],
   "source": [
    "x"
   ]
  },
  {
   "cell_type": "code",
   "execution_count": 291,
   "id": "5a807069-8fb5-4db5-947f-9fd892a1723d",
   "metadata": {},
   "outputs": [],
   "source": [
    "x = str(x)"
   ]
  },
  {
   "cell_type": "code",
   "execution_count": 292,
   "id": "f3bdb123-6720-43d6-9104-ccd4204999e0",
   "metadata": {},
   "outputs": [
    {
     "data": {
      "text/plain": [
       "'5'"
      ]
     },
     "execution_count": 292,
     "metadata": {},
     "output_type": "execute_result"
    }
   ],
   "source": [
    "x"
   ]
  },
  {
   "cell_type": "code",
   "execution_count": 293,
   "id": "b35616c8-14b9-46d6-ab41-aa51fc7cee9d",
   "metadata": {},
   "outputs": [
    {
     "data": {
      "text/plain": [
       "str"
      ]
     },
     "execution_count": 293,
     "metadata": {},
     "output_type": "execute_result"
    }
   ],
   "source": [
    "type(x)"
   ]
  },
  {
   "cell_type": "code",
   "execution_count": 295,
   "id": "a60a551e-45fa-438c-9f89-c1a7f1efcba2",
   "metadata": {},
   "outputs": [
    {
     "name": "stdout",
     "output_type": "stream",
     "text": [
      "Orange\n",
      "Banana\n",
      "Cherry\n"
     ]
    }
   ],
   "source": [
    "x, y, z = \"Orange\", \"Banana\", \"Cherry\"\n",
    "print(x)\n",
    "print(y)\n",
    "print(z)"
   ]
  },
  {
   "cell_type": "code",
   "execution_count": null,
   "id": "dcc28daf-5992-4549-8c0a-cf46d624f778",
   "metadata": {},
   "outputs": [],
   "source": []
  }
 ],
 "metadata": {
  "kernelspec": {
   "display_name": "Python 3 (ipykernel)",
   "language": "python",
   "name": "python3"
  },
  "language_info": {
   "codemirror_mode": {
    "name": "ipython",
    "version": 3
   },
   "file_extension": ".py",
   "mimetype": "text/x-python",
   "name": "python",
   "nbconvert_exporter": "python",
   "pygments_lexer": "ipython3",
   "version": "3.8.0"
  }
 },
 "nbformat": 4,
 "nbformat_minor": 5
}
