{
 "cells": [
  {
   "cell_type": "code",
   "execution_count": 34,
   "id": "53755a0b-a1bf-4f45-b884-49e887bfa4e1",
   "metadata": {},
   "outputs": [],
   "source": [
    "import pandas as pd\n",
    "import numpy as np"
   ]
  },
  {
   "cell_type": "code",
   "execution_count": 2,
   "id": "8992e2ab-e4ea-41ee-adeb-91d2f7afff24",
   "metadata": {},
   "outputs": [
    {
     "name": "stdout",
     "output_type": "stream",
     "text": [
      "The number is odd\n"
     ]
    }
   ],
   "source": [
    "number = 7\n",
    "\n",
    "if number % 2 ==0:\n",
    "    print(\"The number is even\")\n",
    "else:\n",
    "    print(\"The number is odd\")"
   ]
  },
  {
   "cell_type": "code",
   "execution_count": 3,
   "id": "3537809b-bce2-4157-9e6d-7864550bc29c",
   "metadata": {},
   "outputs": [
    {
     "name": "stdout",
     "output_type": "stream",
     "text": [
      "It's warm outside\n"
     ]
    }
   ],
   "source": [
    "temp = 22\n",
    "if temp > 30:\n",
    "    print(\"It's hot outside\")\n",
    "elif temp > 20:\n",
    "    print(\"It's warm outside\")\n",
    "elif temp > 10:\n",
    "    print(\"It's cool outside\")\n",
    "else:\n",
    "    print(\"It's cold outside\")"
   ]
  },
  {
   "cell_type": "code",
   "execution_count": 4,
   "id": "0f789178-507a-4a27-9f7b-548f112a307b",
   "metadata": {},
   "outputs": [
    {
     "name": "stdout",
     "output_type": "stream",
     "text": [
      "welcome, Emil!\n"
     ]
    }
   ],
   "source": [
    "username = \"Emil\"\n",
    "if len(username) > 0:\n",
    "    print(f\"welcome, {username}!\")\n",
    "else:\n",
    "    print(\"Error:Username cannot be empty\")"
   ]
  },
  {
   "cell_type": "code",
   "execution_count": 5,
   "id": "2766a071-e4dd-488d-a721-270588b564c8",
   "metadata": {},
   "outputs": [
    {
     "name": "stdout",
     "output_type": "stream",
     "text": [
      "a is greater than b\n"
     ]
    }
   ],
   "source": [
    "a = 5\n",
    "b = 2\n",
    "if a > b: print(\"a is greater than b\")"
   ]
  },
  {
   "cell_type": "code",
   "execution_count": 6,
   "id": "52a6cfa7-9b22-40e1-a2ba-f97d9b084f46",
   "metadata": {},
   "outputs": [
    {
     "name": "stdout",
     "output_type": "stream",
     "text": [
      "B\n"
     ]
    }
   ],
   "source": [
    "a = 2\n",
    "b = 330\n",
    "print(\"A\") if a > b else print(\"B\")"
   ]
  },
  {
   "cell_type": "code",
   "execution_count": 7,
   "id": "2bdd199b-fad1-4137-b37e-1b25450541b8",
   "metadata": {},
   "outputs": [
    {
     "name": "stdout",
     "output_type": "stream",
     "text": [
      "Bigger is 20\n"
     ]
    }
   ],
   "source": [
    "a = 10\n",
    "b = 20\n",
    "bigger = a if a > b else b\n",
    "print(\"Bigger is\", bigger)"
   ]
  },
  {
   "cell_type": "code",
   "execution_count": 8,
   "id": "2945730d-d16d-4a37-a26f-34cacf9bd277",
   "metadata": {},
   "outputs": [
    {
     "name": "stdout",
     "output_type": "stream",
     "text": [
      "=\n"
     ]
    }
   ],
   "source": [
    "a = 330\n",
    "b = 330\n",
    "print(\"A\") if a > b else print(\"=\") if a == b else print(\"B\")"
   ]
  },
  {
   "cell_type": "code",
   "execution_count": 10,
   "id": "e2241695-5dbd-4ba7-9910-7a847b7a8e80",
   "metadata": {},
   "outputs": [
    {
     "name": "stdout",
     "output_type": "stream",
     "text": [
      "Maximum Value: 20\n"
     ]
    }
   ],
   "source": [
    "x = 15\n",
    "y = 20\n",
    "max_value = x if x > y else y\n",
    "print(\"Maximum Value:\", max_value)"
   ]
  },
  {
   "cell_type": "code",
   "execution_count": 11,
   "id": "987c6771-8d7d-46fa-acfe-a6ec478ab035",
   "metadata": {},
   "outputs": [
    {
     "name": "stdout",
     "output_type": "stream",
     "text": [
      "Welcome, Guest\n"
     ]
    }
   ],
   "source": [
    "username = \"\"\n",
    "display_name = username if username else \"Guest\"\n",
    "print(\"Welcome,\", display_name)"
   ]
  },
  {
   "cell_type": "code",
   "execution_count": 12,
   "id": "041b8cd5-2295-4f49-b5ec-bcb99423b626",
   "metadata": {},
   "outputs": [
    {
     "name": "stdout",
     "output_type": "stream",
     "text": [
      "Both conditions are True\n"
     ]
    }
   ],
   "source": [
    "a = 200\n",
    "b = 33\n",
    "c = 500\n",
    "if a > b and c > a:\n",
    "    print(\"Both conditions are True\")"
   ]
  },
  {
   "cell_type": "code",
   "execution_count": 14,
   "id": "e7c9fb0c-22a2-4cc1-9092-7b5de51c5786",
   "metadata": {},
   "outputs": [
    {
     "name": "stdout",
     "output_type": "stream",
     "text": [
      "At least one of the conditions is True\n"
     ]
    }
   ],
   "source": [
    "a = 200\n",
    "b = 33\n",
    "c = 500\n",
    "if a > b or a > c:\n",
    "    print(\"At least one of the conditions is True\")"
   ]
  },
  {
   "cell_type": "code",
   "execution_count": 15,
   "id": "26226c96-d318-49d6-97bb-d775168c2b91",
   "metadata": {},
   "outputs": [
    {
     "name": "stdout",
     "output_type": "stream",
     "text": [
      "a is NOT greater than b\n"
     ]
    }
   ],
   "source": [
    "a = 33\n",
    "b = 200\n",
    "if not a > b:\n",
    "    print(\"a is NOT greater than b\")"
   ]
  },
  {
   "cell_type": "code",
   "execution_count": 16,
   "id": "2fa1898e-8d5c-4227-a016-5e407fcb71c6",
   "metadata": {},
   "outputs": [
    {
     "name": "stdout",
     "output_type": "stream",
     "text": [
      "Discount applies!\n"
     ]
    }
   ],
   "source": [
    "age = 25\n",
    "is_student = False\n",
    "has_discount_code = True\n",
    "if (age < 18 or age < 65) and not is_student or has_discount_code:\n",
    "    print(\"Discount applies!\")"
   ]
  },
  {
   "cell_type": "code",
   "execution_count": 18,
   "id": "537dd674-63ef-42df-acda-2d556de8297e",
   "metadata": {},
   "outputs": [
    {
     "name": "stdout",
     "output_type": "stream",
     "text": [
      "Great day for outdoor activities!\n"
     ]
    }
   ],
   "source": [
    "temp = 25\n",
    "is_raining = False\n",
    "is_weekend = True\n",
    "\n",
    "if (temp > 20 and not is_raining) or is_weekend:\n",
    "    print(\"Great day for outdoor activities!\")"
   ]
  },
  {
   "cell_type": "code",
   "execution_count": 19,
   "id": "d47bf0f1-49a2-4b88-80f6-96ac86489909",
   "metadata": {},
   "outputs": [
    {
     "name": "stdout",
     "output_type": "stream",
     "text": [
      "Login successful\n"
     ]
    }
   ],
   "source": [
    "username = \"Tobias\"\n",
    "password = \"secret123\"\n",
    "is_verified = True\n",
    "\n",
    "if username and password and is_verified:\n",
    "    print(\"Login successful\")\n",
    "else:\n",
    "    print(\"Login failed\")"
   ]
  },
  {
   "cell_type": "code",
   "execution_count": 20,
   "id": "a17fc8c2-1feb-4f46-a94e-9625f28f40cd",
   "metadata": {},
   "outputs": [
    {
     "name": "stdout",
     "output_type": "stream",
     "text": [
      "Valid score\n"
     ]
    }
   ],
   "source": [
    "score = 85\n",
    "if score >= 0 and score <= 100:\n",
    "    print(\"Valid score\")\n",
    "else:\n",
    "    print(\"Invalid score\")"
   ]
  },
  {
   "cell_type": "code",
   "execution_count": 21,
   "id": "ec31f6b5-8644-4a07-82be-fc59b736416a",
   "metadata": {},
   "outputs": [
    {
     "name": "stdout",
     "output_type": "stream",
     "text": [
      "Above ten,\n",
      "and also above 20!\n"
     ]
    }
   ],
   "source": [
    "x = 41\n",
    "if x > 10:\n",
    "    print(\"Above ten,\")\n",
    "    if x > 20:\n",
    "        print(\"and also above 20!\")\n",
    "    else:\n",
    "        print(\"but not above 20.\")"
   ]
  },
  {
   "cell_type": "code",
   "execution_count": 22,
   "id": "32fc34ca-6986-4e41-9181-b30874953511",
   "metadata": {},
   "outputs": [
    {
     "name": "stdout",
     "output_type": "stream",
     "text": [
      "You can drive\n"
     ]
    }
   ],
   "source": [
    "age = 25\n",
    "has_license = True\n",
    "if age >= 18:\n",
    "    if has_license:\n",
    "        print(\"You can drive\")\n",
    "    else:\n",
    "        print(\"You need a license\")\n",
    "else:\n",
    "    print(\"you are too young to drive\")"
   ]
  },
  {
   "cell_type": "code",
   "execution_count": 23,
   "id": "0935d3e0-c18e-4ed0-809e-e1b736f40a62",
   "metadata": {},
   "outputs": [
    {
     "name": "stdout",
     "output_type": "stream",
     "text": [
      "Pass with good standing\n"
     ]
    }
   ],
   "source": [
    "score = 85\n",
    "attendance = 90\n",
    "submitted = True\n",
    "\n",
    "if score >= 60:\n",
    "    if attendance >= 80:\n",
    "        if submitted:\n",
    "            print(\"Pass with good standing\")\n",
    "        else:\n",
    "            print(\"Pass but missing assignment\")\n",
    "    else:\n",
    "        print(\"Pass but low attendance\")\n",
    "else:\n",
    "    print(\"Fail\")"
   ]
  },
  {
   "cell_type": "code",
   "execution_count": 24,
   "id": "c341fe37-0ae4-476d-8d12-411104469128",
   "metadata": {},
   "outputs": [
    {
     "name": "stdout",
     "output_type": "stream",
     "text": [
      "Perfect beach weather!\n"
     ]
    }
   ],
   "source": [
    "temp = 25\n",
    "is_sunny = True\n",
    "\n",
    "if temp > 20:\n",
    "    if is_sunny:\n",
    "        print(\"Perfect beach weather!\")"
   ]
  },
  {
   "cell_type": "code",
   "execution_count": 26,
   "id": "e1f5b4e5-94fd-4a79-9e0f-cfec3b94229e",
   "metadata": {},
   "outputs": [],
   "source": [
    "a = 33\n",
    "b = 200\n",
    "\n",
    "if b > a:\n",
    "    pass"
   ]
  },
  {
   "cell_type": "code",
   "execution_count": 27,
   "id": "1bdf0e60-5915-4591-9da5-fa8d986c7edb",
   "metadata": {},
   "outputs": [],
   "source": [
    "age = 16\n",
    "\n",
    "if age < 18:\n",
    "    pass\n",
    "else:\n",
    "    print(\"Access granted\")"
   ]
  },
  {
   "cell_type": "code",
   "execution_count": 29,
   "id": "751d084f-5a04-4730-8f08-9fefb33da989",
   "metadata": {},
   "outputs": [
    {
     "name": "stdout",
     "output_type": "stream",
     "text": [
      "Positive value\n"
     ]
    }
   ],
   "source": [
    "value = 50\n",
    "\n",
    "if value < 0:\n",
    "    print(\"Negative value\")\n",
    "elif value == 0:\n",
    "    pass\n",
    "else:\n",
    "    print(\"Positive value\")"
   ]
  },
  {
   "cell_type": "code",
   "execution_count": 32,
   "id": "d527662c-12d9-42a2-94e9-4f7920b6b5dc",
   "metadata": {},
   "outputs": [
    {
     "ename": "SyntaxError",
     "evalue": "invalid syntax (1330322826.py, line 3)",
     "output_type": "error",
     "traceback": [
      "\u001b[1;36m  Cell \u001b[1;32mIn[32], line 3\u001b[1;36m\u001b[0m\n\u001b[1;33m    match day:\u001b[0m\n\u001b[1;37m          ^\u001b[0m\n\u001b[1;31mSyntaxError\u001b[0m\u001b[1;31m:\u001b[0m invalid syntax\n"
     ]
    }
   ],
   "source": [
    "day = 4\n",
    "match day:\n",
    "    case 1:\n",
    "        print(\"Monday\")\n",
    "    case 2:\n",
    "        print(\"Tuesday\")\n",
    "    case 3:\n",
    "        print(\"Wednesday\")\n",
    "    case 4:\n",
    "        print(\"Thursday\")\n",
    "    case 5:\n",
    "        print(\"Friday\")\n",
    "    case 6:\n",
    "        print(\"Saturday\")\n",
    "    case 7:\n",
    "        print(\"Sunday\")"
   ]
  },
  {
   "cell_type": "code",
   "execution_count": 35,
   "id": "2dd6e1b9-ba1f-4a49-b82b-5568de211133",
   "metadata": {},
   "outputs": [
    {
     "ename": "SyntaxError",
     "evalue": "invalid syntax (2221517983.py, line 2)",
     "output_type": "error",
     "traceback": [
      "\u001b[1;36m  Cell \u001b[1;32mIn[35], line 2\u001b[1;36m\u001b[0m\n\u001b[1;33m    match day:\u001b[0m\n\u001b[1;37m          ^\u001b[0m\n\u001b[1;31mSyntaxError\u001b[0m\u001b[1;31m:\u001b[0m invalid syntax\n"
     ]
    }
   ],
   "source": [
    "day = 4\n",
    "match day:\n",
    "  case 1:\n",
    "    print(\"Monday\")\n",
    "  case 2:\n",
    "    print(\"Tuesday\")\n",
    "  case 3:\n",
    "    print(\"Wednesday\")\n",
    "  case 4:\n",
    "    print(\"Thursday\")\n",
    "  case 5:\n",
    "    print(\"Friday\")\n",
    "  case 6:\n",
    "    print(\"Saturday\")\n",
    "  case 7:\n",
    "    print(\"Sunday\")"
   ]
  },
  {
   "cell_type": "code",
   "execution_count": 38,
   "id": "c005d99f-95ac-4db5-bf36-5567e03f1775",
   "metadata": {},
   "outputs": [
    {
     "name": "stdout",
     "output_type": "stream",
     "text": [
      "1\n",
      "2\n",
      "3\n",
      "4\n",
      "5\n",
      "6\n"
     ]
    }
   ],
   "source": [
    "i = 1\n",
    "while i <= 6:\n",
    "    print(i)\n",
    "    i += 1"
   ]
  },
  {
   "cell_type": "code",
   "execution_count": 40,
   "id": "dedcea54-314a-4ae6-a562-588c13d4597c",
   "metadata": {},
   "outputs": [
    {
     "name": "stdout",
     "output_type": "stream",
     "text": [
      "1\n",
      "2\n",
      "3\n"
     ]
    }
   ],
   "source": [
    "i = 1\n",
    "while i < 6:\n",
    "    print(i)\n",
    "    if i == 3:\n",
    "        break\n",
    "    i += 1"
   ]
  },
  {
   "cell_type": "code",
   "execution_count": 44,
   "id": "cab72331-e0e8-4942-9430-fa8a0378fbb7",
   "metadata": {},
   "outputs": [
    {
     "name": "stdout",
     "output_type": "stream",
     "text": [
      "1\n",
      "2\n",
      "4\n",
      "5\n",
      "6\n"
     ]
    }
   ],
   "source": [
    "i = 0\n",
    "while i < 6:\n",
    "    i += 1\n",
    "    if i == 3:\n",
    "        continue\n",
    "    print(i)"
   ]
  },
  {
   "cell_type": "code",
   "execution_count": 46,
   "id": "9fa15c3e-25d7-4762-ad74-c7ab39e4a81f",
   "metadata": {},
   "outputs": [
    {
     "name": "stdout",
     "output_type": "stream",
     "text": [
      "1\n",
      "2\n",
      "3\n",
      "4\n",
      "5\n",
      "I is no longer less than 6\n"
     ]
    }
   ],
   "source": [
    "i = 1\n",
    "while i < 6:\n",
    "    print(i)\n",
    "    i += 1\n",
    "else:\n",
    "    print(\"I is no longer less than 6\")"
   ]
  },
  {
   "cell_type": "code",
   "execution_count": 47,
   "id": "76432bb6-8dfa-41c0-846d-90b247ce9157",
   "metadata": {},
   "outputs": [
    {
     "name": "stdout",
     "output_type": "stream",
     "text": [
      "apple\n",
      "banana\n",
      "cherry\n"
     ]
    }
   ],
   "source": [
    "fruits = [\"apple\", \"banana\", \"cherry\"]\n",
    "for x in fruits:\n",
    "    print(x)"
   ]
  },
  {
   "cell_type": "code",
   "execution_count": 48,
   "id": "cd39905e-e6cb-4f1f-a040-e789920eca6c",
   "metadata": {},
   "outputs": [
    {
     "name": "stdout",
     "output_type": "stream",
     "text": [
      "b\n",
      "a\n",
      "n\n",
      "a\n",
      "n\n",
      "a\n"
     ]
    }
   ],
   "source": [
    "for x in \"banana\":\n",
    "    print(x)"
   ]
  },
  {
   "cell_type": "code",
   "execution_count": 50,
   "id": "ef2abc0f-d947-4a63-8af0-77df23875c62",
   "metadata": {},
   "outputs": [
    {
     "name": "stdout",
     "output_type": "stream",
     "text": [
      "apple\n",
      "banana\n"
     ]
    }
   ],
   "source": [
    "fruits = [\"apple\", \"banana\", \"cherry\"]\n",
    "for x in fruits:\n",
    "    print(x)\n",
    "    if x == \"banana\":\n",
    "        break"
   ]
  },
  {
   "cell_type": "code",
   "execution_count": 51,
   "id": "728d23b0-9f27-4ad5-9818-33ead48e20df",
   "metadata": {},
   "outputs": [
    {
     "name": "stdout",
     "output_type": "stream",
     "text": [
      "apple\n",
      "cherry\n"
     ]
    }
   ],
   "source": [
    "fruits = [\"apple\", \"banana\", \"cherry\"]\n",
    "for x in fruits:\n",
    "    if x == \"banana\":\n",
    "        continue\n",
    "    print(x)"
   ]
  },
  {
   "cell_type": "code",
   "execution_count": 52,
   "id": "f2fc4fd7-5b3c-407a-8c23-05cf6e8b2bb5",
   "metadata": {},
   "outputs": [
    {
     "name": "stdout",
     "output_type": "stream",
     "text": [
      "0\n",
      "1\n",
      "2\n",
      "3\n",
      "4\n",
      "5\n"
     ]
    }
   ],
   "source": [
    "for x in range(6):\n",
    "    print(x)"
   ]
  },
  {
   "cell_type": "code",
   "execution_count": 53,
   "id": "bb0bf070-4102-4df2-8a6a-2e53c0b043ff",
   "metadata": {},
   "outputs": [
    {
     "name": "stdout",
     "output_type": "stream",
     "text": [
      "2\n",
      "3\n",
      "4\n",
      "5\n"
     ]
    }
   ],
   "source": [
    "for x in range(2, 6):\n",
    "    print(x)"
   ]
  },
  {
   "cell_type": "code",
   "execution_count": 54,
   "id": "410f5dd4-aad0-4677-92c7-67ec0e362519",
   "metadata": {},
   "outputs": [
    {
     "name": "stdout",
     "output_type": "stream",
     "text": [
      "2\n",
      "5\n",
      "8\n",
      "11\n",
      "14\n",
      "17\n",
      "20\n",
      "23\n",
      "26\n",
      "29\n"
     ]
    }
   ],
   "source": [
    "for x in range(2, 30, 3):\n",
    "    print(x)"
   ]
  },
  {
   "cell_type": "code",
   "execution_count": 55,
   "id": "6724fe73-c571-4531-97d2-4ac0fa2672f4",
   "metadata": {},
   "outputs": [
    {
     "name": "stdout",
     "output_type": "stream",
     "text": [
      "0\n",
      "1\n",
      "2\n",
      "3\n",
      "4\n",
      "5\n",
      "finally finished\n"
     ]
    }
   ],
   "source": [
    "for x in range(6):\n",
    "    print(x)\n",
    "else:\n",
    "    print(\"finally finished\")"
   ]
  },
  {
   "cell_type": "code",
   "execution_count": 56,
   "id": "d282affe-b810-4f70-87cf-cbec80eea636",
   "metadata": {},
   "outputs": [
    {
     "name": "stdout",
     "output_type": "stream",
     "text": [
      "0\n",
      "1\n",
      "2\n"
     ]
    }
   ],
   "source": [
    "for x in range(6):\n",
    "    if x ==3: break\n",
    "    print(x)\n",
    "else:\n",
    "    print(\"finally finsihed\")"
   ]
  },
  {
   "cell_type": "code",
   "execution_count": 57,
   "id": "5451de01-3c3d-4944-ade3-ec967ea0037b",
   "metadata": {},
   "outputs": [
    {
     "name": "stdout",
     "output_type": "stream",
     "text": [
      "red apple\n",
      "red banana\n",
      "red cherry\n",
      "big apple\n",
      "big banana\n",
      "big cherry\n",
      "tasty apple\n",
      "tasty banana\n",
      "tasty cherry\n"
     ]
    }
   ],
   "source": [
    "adj = [\"red\", \"big\", \"tasty\"]\n",
    "fruits = [\"apple\", \"banana\", \"cherry\"]\n",
    "\n",
    "for x in adj:\n",
    "    for y in fruits:\n",
    "        print(x, y)"
   ]
  },
  {
   "cell_type": "code",
   "execution_count": 58,
   "id": "80a8b7bd-531f-4bd7-8738-76e8a1899f27",
   "metadata": {},
   "outputs": [],
   "source": [
    "for x in [0, 1, 2]:\n",
    "    pass"
   ]
  },
  {
   "cell_type": "code",
   "execution_count": 59,
   "id": "f87a6d4d-3eeb-48e9-a931-49b0ea7cbd28",
   "metadata": {},
   "outputs": [],
   "source": [
    "def greet():\n",
    "    print(\"hello\")"
   ]
  },
  {
   "cell_type": "code",
   "execution_count": 60,
   "id": "9daf4795-1b48-4de2-9239-016d4c3d010c",
   "metadata": {},
   "outputs": [
    {
     "name": "stdout",
     "output_type": "stream",
     "text": [
      "hello\n"
     ]
    }
   ],
   "source": [
    "greet()"
   ]
  },
  {
   "cell_type": "code",
   "execution_count": 61,
   "id": "48b76c2c-f893-4f83-a31a-ec6e384b2f5c",
   "metadata": {},
   "outputs": [],
   "source": [
    "def my_function():\n",
    "    print(\"hello\")"
   ]
  },
  {
   "cell_type": "code",
   "execution_count": 62,
   "id": "e43c4647-c687-423b-9026-06e1c1d13f40",
   "metadata": {},
   "outputs": [
    {
     "name": "stdout",
     "output_type": "stream",
     "text": [
      "hello\n"
     ]
    }
   ],
   "source": [
    "my_function()"
   ]
  },
  {
   "cell_type": "code",
   "execution_count": 63,
   "id": "f2018b90-92f4-4bc6-9213-6b2d2edccea5",
   "metadata": {},
   "outputs": [],
   "source": [
    "def my_function():\n",
    "  print(\"Hello from a function\")"
   ]
  },
  {
   "cell_type": "code",
   "execution_count": 64,
   "id": "ad4f91e2-fe92-490b-961a-d7a400c0f564",
   "metadata": {},
   "outputs": [
    {
     "name": "stdout",
     "output_type": "stream",
     "text": [
      "Hello from a function\n",
      "Hello from a function\n",
      "Hello from a function\n"
     ]
    }
   ],
   "source": [
    "my_function()\n",
    "my_function()\n",
    "my_function()"
   ]
  },
  {
   "cell_type": "code",
   "execution_count": 65,
   "id": "6c508ded-0ff8-4cb0-84fb-55f5e40ccdc9",
   "metadata": {},
   "outputs": [],
   "source": [
    "def my_function(fname):\n",
    "    print(fname + \" Resfsnes\")"
   ]
  },
  {
   "cell_type": "code",
   "execution_count": 66,
   "id": "873fe379-409e-40aa-b815-a8f447307580",
   "metadata": {},
   "outputs": [
    {
     "name": "stdout",
     "output_type": "stream",
     "text": [
      "emial Resfsnes\n",
      "tobias Resfsnes\n",
      "linus Resfsnes\n"
     ]
    }
   ],
   "source": [
    "my_function(\"emial\")\n",
    "my_function(\"tobias\")\n",
    "my_function(\"linus\")"
   ]
  },
  {
   "cell_type": "code",
   "execution_count": 67,
   "id": "52675b66-579b-4013-b890-c3bedce71fca",
   "metadata": {},
   "outputs": [],
   "source": [
    "def my_function(name):\n",
    "    print(\"Hello\", name)"
   ]
  },
  {
   "cell_type": "code",
   "execution_count": 69,
   "id": "d0c1154d-2328-4b21-bede-7ff85a915702",
   "metadata": {},
   "outputs": [
    {
     "name": "stdout",
     "output_type": "stream",
     "text": [
      "Hello Emil\n"
     ]
    }
   ],
   "source": [
    "my_function(\"Emil\")"
   ]
  },
  {
   "cell_type": "code",
   "execution_count": 71,
   "id": "9eb3a948-8e52-4360-8146-6ed61fd0e0e2",
   "metadata": {},
   "outputs": [
    {
     "name": "stdout",
     "output_type": "stream",
     "text": [
      "emil Refsnes\n"
     ]
    }
   ],
   "source": [
    "def my_function (fname, lname):\n",
    "    print(fname + \" \" + lname)\n",
    "my_function(\"emil\", \"Refsnes\")"
   ]
  },
  {
   "cell_type": "code",
   "execution_count": 72,
   "id": "9ea59a9e-8a75-4125-980d-c568b5d5bd9a",
   "metadata": {},
   "outputs": [],
   "source": [
    "def my_function(name = \"friend\"):\n",
    "    print(\"Hello\", name)"
   ]
  },
  {
   "cell_type": "code",
   "execution_count": 74,
   "id": "4361e6f9-0ea8-48c1-8d76-0da6a7a1350e",
   "metadata": {},
   "outputs": [
    {
     "name": "stdout",
     "output_type": "stream",
     "text": [
      "Hello Emil\n",
      "Hello tobias\n",
      "Hello friend\n",
      "Hello linus\n"
     ]
    }
   ],
   "source": [
    "my_function(\"Emil\")\n",
    "my_function(\"tobias\")\n",
    "my_function()\n",
    "my_function(\"linus\")"
   ]
  },
  {
   "cell_type": "code",
   "execution_count": 75,
   "id": "fbb21497-05c1-4189-bb7d-0455babe117c",
   "metadata": {},
   "outputs": [],
   "source": [
    "def my_function(country = \"Norway\"):\n",
    "    print(\"I am from\", country)"
   ]
  },
  {
   "cell_type": "code",
   "execution_count": 76,
   "id": "e12fc1ca-7d00-4e5c-a162-02d98fb3305c",
   "metadata": {},
   "outputs": [
    {
     "name": "stdout",
     "output_type": "stream",
     "text": [
      "I am from Sweden\n"
     ]
    }
   ],
   "source": [
    "my_function(\"Sweden\")"
   ]
  },
  {
   "cell_type": "code",
   "execution_count": 77,
   "id": "50ccb65e-0865-41b6-a655-6c7be4e375d6",
   "metadata": {},
   "outputs": [
    {
     "name": "stdout",
     "output_type": "stream",
     "text": [
      "I am from India\n",
      "I am from Norway\n",
      "I am from Brazil\n"
     ]
    }
   ],
   "source": [
    "my_function(\"India\")\n",
    "my_function()\n",
    "my_function(\"Brazil\")"
   ]
  },
  {
   "cell_type": "code",
   "execution_count": 78,
   "id": "4d8fe909-9fe8-4f49-ab96-6663b2c931c3",
   "metadata": {},
   "outputs": [],
   "source": [
    "def my_function(animal, name):\n",
    "    print(\"I have a \", animal)\n",
    "    print(\"My\", animal + \"'s name is\", name)"
   ]
  },
  {
   "cell_type": "code",
   "execution_count": 79,
   "id": "77bffccb-0575-4171-ad78-0bf05dbf561f",
   "metadata": {},
   "outputs": [
    {
     "name": "stdout",
     "output_type": "stream",
     "text": [
      "I have a  dog\n",
      "My dog's name is buddy\n"
     ]
    }
   ],
   "source": [
    "my_function(animal = \"dog\", name = \"buddy\")"
   ]
  },
  {
   "cell_type": "code",
   "execution_count": 80,
   "id": "eb57ca96-e1d9-4ea6-ad98-b5b9789f4c5d",
   "metadata": {},
   "outputs": [],
   "source": [
    "def my_function(animal, name):\n",
    "    print(\"I ahve a\", animal)\n",
    "    print(\"My\", animal + \"'s name is\", name)"
   ]
  },
  {
   "cell_type": "code",
   "execution_count": 81,
   "id": "a0b55b6d-f376-4db5-80bc-4739e6a7e4d8",
   "metadata": {},
   "outputs": [
    {
     "name": "stdout",
     "output_type": "stream",
     "text": [
      "I ahve a dog\n",
      "My dog's name is buddy\n"
     ]
    }
   ],
   "source": [
    "my_function(\"dog\", \"buddy\")"
   ]
  },
  {
   "cell_type": "code",
   "execution_count": 84,
   "id": "cc351a7b-c7bd-419f-bf5d-b7aaac00193c",
   "metadata": {},
   "outputs": [],
   "source": [
    "def my_function(animal, name):\n",
    "    print(\"I have a\", animal)\n",
    "    print(\"My\", animal + \"'s name is\", name)"
   ]
  },
  {
   "cell_type": "code",
   "execution_count": 85,
   "id": "f74b1804-ea23-41ec-97a7-3da85171253a",
   "metadata": {},
   "outputs": [
    {
     "name": "stdout",
     "output_type": "stream",
     "text": [
      "I have a buddy\n",
      "My buddy's name is dog\n"
     ]
    }
   ],
   "source": [
    "my_function(\"buddy\", \"dog\")"
   ]
  },
  {
   "cell_type": "code",
   "execution_count": 87,
   "id": "ae46bfdd-96a2-4511-b4c7-63a95fa263c5",
   "metadata": {},
   "outputs": [
    {
     "name": "stdout",
     "output_type": "stream",
     "text": [
      "I have a 5 year old dog named buddy\n"
     ]
    }
   ],
   "source": [
    "def my_function(animal, name, age):\n",
    "    print(\"I have a\", age, \"year old\", animal, \"named\", name)\n",
    "my_function(\"dog\",\"buddy\", age = 5)"
   ]
  },
  {
   "cell_type": "code",
   "execution_count": 88,
   "id": "bc6979ff-7693-416c-ba3b-0721004594a6",
   "metadata": {},
   "outputs": [
    {
     "name": "stdout",
     "output_type": "stream",
     "text": [
      "apple\n",
      "banana\n",
      "cherry\n"
     ]
    }
   ],
   "source": [
    "def my_function(fruits):\n",
    "    for fruit in fruits:\n",
    "        print(fruit)\n",
    "\n",
    "my_fruits = [\"apple\", \"banana\", \"cherry\"]\n",
    "my_function(my_fruits)"
   ]
  },
  {
   "cell_type": "code",
   "execution_count": 90,
   "id": "007776c6-4b70-4236-bb78-31de4b00224c",
   "metadata": {},
   "outputs": [
    {
     "name": "stdout",
     "output_type": "stream",
     "text": [
      "Name: Emil\n",
      "Age: 25\n"
     ]
    }
   ],
   "source": [
    "def my_function(person):\n",
    "    print(\"Name:\", person[\"name\"])\n",
    "    print(\"Age:\", person[\"Age\"])\n",
    "\n",
    "my_person = {\"name\": \"Emil\", \"Age\": 25}\n",
    "my_function(my_person)\n"
   ]
  },
  {
   "cell_type": "code",
   "execution_count": 91,
   "id": "9e9be4ed-bcaf-4403-b4d9-7c6bae4600db",
   "metadata": {},
   "outputs": [],
   "source": [
    "def my_function(x, y):\n",
    "    return x + y"
   ]
  },
  {
   "cell_type": "code",
   "execution_count": 92,
   "id": "b99ab4e8-dcb5-4663-93b5-f7c64e8c3c77",
   "metadata": {},
   "outputs": [
    {
     "name": "stdout",
     "output_type": "stream",
     "text": [
      "8\n"
     ]
    }
   ],
   "source": [
    "result = my_function(5, 3)\n",
    "print(result)"
   ]
  },
  {
   "cell_type": "code",
   "execution_count": 93,
   "id": "4bfa3582-79ff-4ab8-898a-5c37c789efc5",
   "metadata": {},
   "outputs": [
    {
     "name": "stdout",
     "output_type": "stream",
     "text": [
      "apple\n",
      "banana\n",
      "cherry\n"
     ]
    }
   ],
   "source": [
    "def my_function():\n",
    "    return [\"apple\", \"banana\", \"cherry\"]\n",
    "\n",
    "fruits = my_function()\n",
    "print(fruits[0])\n",
    "print(fruits[1])\n",
    "print(fruits[2])"
   ]
  },
  {
   "cell_type": "code",
   "execution_count": 94,
   "id": "0fc89e9a-7936-4e55-8959-3751e90c1a2c",
   "metadata": {},
   "outputs": [
    {
     "data": {
      "text/plain": [
       "['apple', 'banana', 'cherry']"
      ]
     },
     "execution_count": 94,
     "metadata": {},
     "output_type": "execute_result"
    }
   ],
   "source": [
    "fruits"
   ]
  },
  {
   "cell_type": "code",
   "execution_count": 95,
   "id": "e4dc6e2d-1dfe-4647-85a1-53f45dbbee4e",
   "metadata": {},
   "outputs": [
    {
     "name": "stdout",
     "output_type": "stream",
     "text": [
      "x: 10\n",
      "y: 20\n"
     ]
    }
   ],
   "source": [
    "def my_function():\n",
    "    return (10, 20)\n",
    "x, y = my_function()\n",
    "print(\"x:\", x)\n",
    "print(\"y:\", y)"
   ]
  },
  {
   "cell_type": "code",
   "execution_count": 98,
   "id": "320c7837-eadb-450d-bd06-de68bd447757",
   "metadata": {},
   "outputs": [
    {
     "name": "stdout",
     "output_type": "stream",
     "text": [
      "Hello Emil\n"
     ]
    }
   ],
   "source": [
    "def my_function(name, /):\n",
    "    print(\"Hello\", name)\n",
    "my_function(\"Emil\")"
   ]
  },
  {
   "cell_type": "code",
   "execution_count": 99,
   "id": "9585c6cf-0442-4305-9121-5d37abb1d13d",
   "metadata": {},
   "outputs": [
    {
     "name": "stdout",
     "output_type": "stream",
     "text": [
      "Hello Emil\n"
     ]
    }
   ],
   "source": [
    "def my_function(name):\n",
    "    print(\"Hello\", name)\n",
    "\n",
    "my_function(name = \"Emil\")"
   ]
  },
  {
   "cell_type": "code",
   "execution_count": 100,
   "id": "3adca6f2-5472-4dd4-af5e-62f6cf5dfe11",
   "metadata": {},
   "outputs": [
    {
     "name": "stdout",
     "output_type": "stream",
     "text": [
      "Hello emil\n"
     ]
    }
   ],
   "source": [
    "def my_function(*, name):\n",
    "    print(\"Hello\", name)\n",
    "my_function(name = \"emil\")"
   ]
  },
  {
   "cell_type": "code",
   "execution_count": 101,
   "id": "67610b5d-ed3d-4446-9db6-6ee5673548bb",
   "metadata": {},
   "outputs": [],
   "source": [
    "def my_function(a, b, /, *, c, d):\n",
    "  return a + b + c + d"
   ]
  },
  {
   "cell_type": "code",
   "execution_count": 102,
   "id": "5b40c6dd-74bc-4eda-ab0a-fdbffe88a0c8",
   "metadata": {},
   "outputs": [
    {
     "name": "stdout",
     "output_type": "stream",
     "text": [
      "50\n"
     ]
    }
   ],
   "source": [
    "result = my_function(5, 10, c = 15, d = 20)\n",
    "print(result)"
   ]
  },
  {
   "cell_type": "code",
   "execution_count": null,
   "id": "8d22ee27-f6a2-4989-8006-3c2ba05b47e5",
   "metadata": {},
   "outputs": [],
   "source": []
  },
  {
   "cell_type": "code",
   "execution_count": null,
   "id": "cedadeb2-d772-41a3-aebd-4ce2dcdb0014",
   "metadata": {},
   "outputs": [],
   "source": []
  },
  {
   "cell_type": "code",
   "execution_count": null,
   "id": "eeb5b4e4-51c1-48f1-8124-88d3024c3c27",
   "metadata": {},
   "outputs": [],
   "source": []
  },
  {
   "cell_type": "code",
   "execution_count": null,
   "id": "7cee6f5d-2cbf-4d69-adee-32f28eea817a",
   "metadata": {},
   "outputs": [],
   "source": []
  },
  {
   "cell_type": "code",
   "execution_count": null,
   "id": "5779d65c-3442-4685-bd79-89dbc9789a4b",
   "metadata": {},
   "outputs": [],
   "source": []
  }
 ],
 "metadata": {
  "kernelspec": {
   "display_name": "Python 3 (ipykernel)",
   "language": "python",
   "name": "python3"
  },
  "language_info": {
   "codemirror_mode": {
    "name": "ipython",
    "version": 3
   },
   "file_extension": ".py",
   "mimetype": "text/x-python",
   "name": "python",
   "nbconvert_exporter": "python",
   "pygments_lexer": "ipython3",
   "version": "3.8.0"
  }
 },
 "nbformat": 4,
 "nbformat_minor": 5
}
