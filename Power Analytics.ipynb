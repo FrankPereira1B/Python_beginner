{
 "cells": [
  {
   "cell_type": "code",
   "execution_count": 34,
   "id": "9ad04348-6b02-45dd-ad0a-e78bf2595269",
   "metadata": {},
   "outputs": [],
   "source": [
    "import pandas as pd\n",
    "from datetime import date"
   ]
  },
  {
   "cell_type": "code",
   "execution_count": 4,
   "id": "04833c23-323d-4df0-aa76-bf070959a89e",
   "metadata": {},
   "outputs": [],
   "source": [
    "df = pd.read_csv(r\"C:\\Users\\rithe\\OneDrive\\Desktop\\Trader\\traderenv\\power_system_dispatch_drl.csv\")"
   ]
  },
  {
   "cell_type": "code",
   "execution_count": 48,
   "id": "2ba8b850-f54f-4845-8022-915e70d599e7",
   "metadata": {},
   "outputs": [
    {
     "data": {
      "text/html": [
       "<div>\n",
       "<style scoped>\n",
       "    .dataframe tbody tr th:only-of-type {\n",
       "        vertical-align: middle;\n",
       "    }\n",
       "\n",
       "    .dataframe tbody tr th {\n",
       "        vertical-align: top;\n",
       "    }\n",
       "\n",
       "    .dataframe thead th {\n",
       "        text-align: right;\n",
       "    }\n",
       "</style>\n",
       "<table border=\"1\" class=\"dataframe\">\n",
       "  <thead>\n",
       "    <tr style=\"text-align: right;\">\n",
       "      <th></th>\n",
       "      <th>Timestamp</th>\n",
       "      <th>Demand</th>\n",
       "      <th>TCL_Load</th>\n",
       "      <th>PriceResp_Load</th>\n",
       "      <th>Wind_Gen</th>\n",
       "      <th>Solar_Gen</th>\n",
       "      <th>Conv_Gen</th>\n",
       "      <th>Storage_SOC</th>\n",
       "      <th>Price</th>\n",
       "      <th>Action_Dispatch</th>\n",
       "      <th>Action_TCL</th>\n",
       "      <th>Action_PriceResp</th>\n",
       "      <th>Reward</th>\n",
       "    </tr>\n",
       "  </thead>\n",
       "  <tbody>\n",
       "    <tr>\n",
       "      <th>0</th>\n",
       "      <td>2025-01-01 00:00:00</td>\n",
       "      <td>298.902322</td>\n",
       "      <td>50.928637</td>\n",
       "      <td>24.622772</td>\n",
       "      <td>90.357993</td>\n",
       "      <td>-1.935874</td>\n",
       "      <td>210.480202</td>\n",
       "      <td>0.526245</td>\n",
       "      <td>39.549898</td>\n",
       "      <td>210.480202</td>\n",
       "      <td>45.940437</td>\n",
       "      <td>16.912081</td>\n",
       "      <td>-74.426815</td>\n",
       "    </tr>\n",
       "    <tr>\n",
       "      <th>1</th>\n",
       "      <td>2025-01-01 00:15:00</td>\n",
       "      <td>303.533891</td>\n",
       "      <td>55.126560</td>\n",
       "      <td>21.487038</td>\n",
       "      <td>68.556957</td>\n",
       "      <td>0.771356</td>\n",
       "      <td>234.205579</td>\n",
       "      <td>0.518234</td>\n",
       "      <td>39.055447</td>\n",
       "      <td>234.205579</td>\n",
       "      <td>47.337750</td>\n",
       "      <td>11.770759</td>\n",
       "      <td>-79.592571</td>\n",
       "    </tr>\n",
       "    <tr>\n",
       "      <th>2</th>\n",
       "      <td>2025-01-01 00:30:00</td>\n",
       "      <td>297.773384</td>\n",
       "      <td>47.528411</td>\n",
       "      <td>17.517491</td>\n",
       "      <td>90.465401</td>\n",
       "      <td>6.330603</td>\n",
       "      <td>200.977379</td>\n",
       "      <td>0.508052</td>\n",
       "      <td>38.640551</td>\n",
       "      <td>200.977379</td>\n",
       "      <td>42.215825</td>\n",
       "      <td>13.019082</td>\n",
       "      <td>-69.545442</td>\n",
       "    </tr>\n",
       "    <tr>\n",
       "      <th>3</th>\n",
       "      <td>2025-01-01 00:45:00</td>\n",
       "      <td>309.852570</td>\n",
       "      <td>59.920047</td>\n",
       "      <td>25.675628</td>\n",
       "      <td>99.167507</td>\n",
       "      <td>10.037923</td>\n",
       "      <td>200.647141</td>\n",
       "      <td>0.509335</td>\n",
       "      <td>42.178781</td>\n",
       "      <td>200.647141</td>\n",
       "      <td>57.679634</td>\n",
       "      <td>13.576543</td>\n",
       "      <td>-71.688526</td>\n",
       "    </tr>\n",
       "    <tr>\n",
       "      <th>4</th>\n",
       "      <td>2025-01-01 01:00:00</td>\n",
       "      <td>297.399808</td>\n",
       "      <td>58.510145</td>\n",
       "      <td>18.164297</td>\n",
       "      <td>85.201429</td>\n",
       "      <td>2.761868</td>\n",
       "      <td>209.436511</td>\n",
       "      <td>0.506897</td>\n",
       "      <td>42.290103</td>\n",
       "      <td>209.436511</td>\n",
       "      <td>55.400260</td>\n",
       "      <td>15.046083</td>\n",
       "      <td>-74.733983</td>\n",
       "    </tr>\n",
       "    <tr>\n",
       "      <th>...</th>\n",
       "      <td>...</td>\n",
       "      <td>...</td>\n",
       "      <td>...</td>\n",
       "      <td>...</td>\n",
       "      <td>...</td>\n",
       "      <td>...</td>\n",
       "      <td>...</td>\n",
       "      <td>...</td>\n",
       "      <td>...</td>\n",
       "      <td>...</td>\n",
       "      <td>...</td>\n",
       "      <td>...</td>\n",
       "      <td>...</td>\n",
       "    </tr>\n",
       "    <tr>\n",
       "      <th>4871</th>\n",
       "      <td>2025-02-20 17:45:00</td>\n",
       "      <td>301.942174</td>\n",
       "      <td>58.776197</td>\n",
       "      <td>27.936127</td>\n",
       "      <td>66.388295</td>\n",
       "      <td>-1.130732</td>\n",
       "      <td>236.684612</td>\n",
       "      <td>0.433194</td>\n",
       "      <td>40.178783</td>\n",
       "      <td>236.684612</td>\n",
       "      <td>54.651822</td>\n",
       "      <td>25.061688</td>\n",
       "      <td>-86.540047</td>\n",
       "    </tr>\n",
       "    <tr>\n",
       "      <th>4872</th>\n",
       "      <td>2025-02-20 18:00:00</td>\n",
       "      <td>293.738879</td>\n",
       "      <td>53.045830</td>\n",
       "      <td>21.436923</td>\n",
       "      <td>86.772551</td>\n",
       "      <td>4.098379</td>\n",
       "      <td>202.867949</td>\n",
       "      <td>0.433962</td>\n",
       "      <td>41.117057</td>\n",
       "      <td>202.867949</td>\n",
       "      <td>51.543713</td>\n",
       "      <td>14.509424</td>\n",
       "      <td>-71.980604</td>\n",
       "    </tr>\n",
       "    <tr>\n",
       "      <th>4873</th>\n",
       "      <td>2025-02-20 18:15:00</td>\n",
       "      <td>304.103323</td>\n",
       "      <td>46.382189</td>\n",
       "      <td>15.325917</td>\n",
       "      <td>90.106648</td>\n",
       "      <td>-8.263648</td>\n",
       "      <td>222.260323</td>\n",
       "      <td>0.425592</td>\n",
       "      <td>40.090924</td>\n",
       "      <td>222.260323</td>\n",
       "      <td>43.797523</td>\n",
       "      <td>14.448177</td>\n",
       "      <td>-76.850257</td>\n",
       "    </tr>\n",
       "    <tr>\n",
       "      <th>4874</th>\n",
       "      <td>2025-02-20 18:30:00</td>\n",
       "      <td>296.033141</td>\n",
       "      <td>44.519090</td>\n",
       "      <td>18.555616</td>\n",
       "      <td>85.101136</td>\n",
       "      <td>6.113586</td>\n",
       "      <td>204.818419</td>\n",
       "      <td>0.421340</td>\n",
       "      <td>40.182772</td>\n",
       "      <td>204.818419</td>\n",
       "      <td>41.349246</td>\n",
       "      <td>14.529683</td>\n",
       "      <td>-71.418880</td>\n",
       "    </tr>\n",
       "    <tr>\n",
       "      <th>4875</th>\n",
       "      <td>2025-02-20 18:45:00</td>\n",
       "      <td>311.926403</td>\n",
       "      <td>52.928339</td>\n",
       "      <td>28.619720</td>\n",
       "      <td>78.496836</td>\n",
       "      <td>-1.142411</td>\n",
       "      <td>234.571978</td>\n",
       "      <td>0.405042</td>\n",
       "      <td>40.738167</td>\n",
       "      <td>234.571978</td>\n",
       "      <td>44.618839</td>\n",
       "      <td>26.957661</td>\n",
       "      <td>-85.815534</td>\n",
       "    </tr>\n",
       "  </tbody>\n",
       "</table>\n",
       "<p>4876 rows × 13 columns</p>\n",
       "</div>"
      ],
      "text/plain": [
       "                Timestamp      Demand   TCL_Load  PriceResp_Load   Wind_Gen  \\\n",
       "0     2025-01-01 00:00:00  298.902322  50.928637       24.622772  90.357993   \n",
       "1     2025-01-01 00:15:00  303.533891  55.126560       21.487038  68.556957   \n",
       "2     2025-01-01 00:30:00  297.773384  47.528411       17.517491  90.465401   \n",
       "3     2025-01-01 00:45:00  309.852570  59.920047       25.675628  99.167507   \n",
       "4     2025-01-01 01:00:00  297.399808  58.510145       18.164297  85.201429   \n",
       "...                   ...         ...        ...             ...        ...   \n",
       "4871  2025-02-20 17:45:00  301.942174  58.776197       27.936127  66.388295   \n",
       "4872  2025-02-20 18:00:00  293.738879  53.045830       21.436923  86.772551   \n",
       "4873  2025-02-20 18:15:00  304.103323  46.382189       15.325917  90.106648   \n",
       "4874  2025-02-20 18:30:00  296.033141  44.519090       18.555616  85.101136   \n",
       "4875  2025-02-20 18:45:00  311.926403  52.928339       28.619720  78.496836   \n",
       "\n",
       "      Solar_Gen    Conv_Gen  Storage_SOC      Price  Action_Dispatch  \\\n",
       "0     -1.935874  210.480202     0.526245  39.549898       210.480202   \n",
       "1      0.771356  234.205579     0.518234  39.055447       234.205579   \n",
       "2      6.330603  200.977379     0.508052  38.640551       200.977379   \n",
       "3     10.037923  200.647141     0.509335  42.178781       200.647141   \n",
       "4      2.761868  209.436511     0.506897  42.290103       209.436511   \n",
       "...         ...         ...          ...        ...              ...   \n",
       "4871  -1.130732  236.684612     0.433194  40.178783       236.684612   \n",
       "4872   4.098379  202.867949     0.433962  41.117057       202.867949   \n",
       "4873  -8.263648  222.260323     0.425592  40.090924       222.260323   \n",
       "4874   6.113586  204.818419     0.421340  40.182772       204.818419   \n",
       "4875  -1.142411  234.571978     0.405042  40.738167       234.571978   \n",
       "\n",
       "      Action_TCL  Action_PriceResp     Reward  \n",
       "0      45.940437         16.912081 -74.426815  \n",
       "1      47.337750         11.770759 -79.592571  \n",
       "2      42.215825         13.019082 -69.545442  \n",
       "3      57.679634         13.576543 -71.688526  \n",
       "4      55.400260         15.046083 -74.733983  \n",
       "...          ...               ...        ...  \n",
       "4871   54.651822         25.061688 -86.540047  \n",
       "4872   51.543713         14.509424 -71.980604  \n",
       "4873   43.797523         14.448177 -76.850257  \n",
       "4874   41.349246         14.529683 -71.418880  \n",
       "4875   44.618839         26.957661 -85.815534  \n",
       "\n",
       "[4876 rows x 13 columns]"
      ]
     },
     "execution_count": 48,
     "metadata": {},
     "output_type": "execute_result"
    }
   ],
   "source": [
    "df"
   ]
  },
  {
   "cell_type": "code",
   "execution_count": 49,
   "id": "fd818b18-7d22-4764-8224-e756bab2d838",
   "metadata": {},
   "outputs": [
    {
     "data": {
      "text/plain": [
       "Index(['Timestamp', 'Demand', 'TCL_Load', 'PriceResp_Load', 'Wind_Gen',\n",
       "       'Solar_Gen', 'Conv_Gen', 'Storage_SOC', 'Price', 'Action_Dispatch',\n",
       "       'Action_TCL', 'Action_PriceResp', 'Reward'],\n",
       "      dtype='object')"
      ]
     },
     "execution_count": 49,
     "metadata": {},
     "output_type": "execute_result"
    }
   ],
   "source": [
    "df.columns"
   ]
  },
  {
   "cell_type": "code",
   "execution_count": 42,
   "id": "fd41e154-1149-41c8-a0c6-394b0d535232",
   "metadata": {},
   "outputs": [],
   "source": [
    "# Finding date range"
   ]
  },
  {
   "cell_type": "code",
   "execution_count": 58,
   "id": "80dba2d3-1232-4e6c-9c9d-2bd59bb0b6b5",
   "metadata": {},
   "outputs": [],
   "source": [
    "date_range_beg = df['Timestamp'][0]"
   ]
  },
  {
   "cell_type": "code",
   "execution_count": 59,
   "id": "37b24efc-cacc-4de4-a213-e98acc9d53f5",
   "metadata": {},
   "outputs": [
    {
     "data": {
      "text/plain": [
       "'2025-01-01 00:00:00'"
      ]
     },
     "execution_count": 59,
     "metadata": {},
     "output_type": "execute_result"
    }
   ],
   "source": [
    "date_range_beg"
   ]
  },
  {
   "cell_type": "code",
   "execution_count": 52,
   "id": "34665c05-cca2-44f1-b016-e6600e63c324",
   "metadata": {},
   "outputs": [],
   "source": [
    "date_range_end = df['Timestamp'][len(df['Timestamp'])-1]"
   ]
  },
  {
   "cell_type": "code",
   "execution_count": 53,
   "id": "c27ac90f-cad1-4766-aa5c-d3bf719eab81",
   "metadata": {},
   "outputs": [
    {
     "data": {
      "text/plain": [
       "'2025-02-20 18:45:00'"
      ]
     },
     "execution_count": 53,
     "metadata": {},
     "output_type": "execute_result"
    }
   ],
   "source": [
    "date_range_end"
   ]
  },
  {
   "cell_type": "code",
   "execution_count": 54,
   "id": "7b1a814b-b5b3-4c3c-8154-3d9580e0060a",
   "metadata": {},
   "outputs": [
    {
     "data": {
      "text/plain": [
       "('2025-01-01 00:00:00', '2025-02-20 18:45:00')"
      ]
     },
     "execution_count": 54,
     "metadata": {},
     "output_type": "execute_result"
    }
   ],
   "source": [
    "date_range_beg,date_range_end"
   ]
  },
  {
   "cell_type": "code",
   "execution_count": 28,
   "id": "81b8591f-f3c6-4b1e-8368-3fbb1a208206",
   "metadata": {},
   "outputs": [],
   "source": [
    "# Calculating days"
   ]
  },
  {
   "cell_type": "code",
   "execution_count": null,
   "id": "b1411790-148e-4f8c-9998-3e099ed9b354",
   "metadata": {},
   "outputs": [],
   "source": [
    "# Converting them into int - strings are not supported"
   ]
  },
  {
   "cell_type": "code",
   "execution_count": 60,
   "id": "04f2a44b-fcae-4788-a25a-e95530f8742b",
   "metadata": {},
   "outputs": [],
   "source": [
    "date_range_beg = date_range_beg.split(\" \")[:-1]"
   ]
  },
  {
   "cell_type": "code",
   "execution_count": 61,
   "id": "0409b53e-44a7-4069-bbd7-6625ca495ee4",
   "metadata": {},
   "outputs": [
    {
     "data": {
      "text/plain": [
       "['2025-01-01']"
      ]
     },
     "execution_count": 61,
     "metadata": {},
     "output_type": "execute_result"
    }
   ],
   "source": [
    "date_range_beg"
   ]
  },
  {
   "cell_type": "code",
   "execution_count": null,
   "id": "29186959-0bcd-4a4c-bdb7-59f2f8ce23d1",
   "metadata": {},
   "outputs": [],
   "source": []
  },
  {
   "cell_type": "code",
   "execution_count": 29,
   "id": "81fe11d1-cbf2-49a8-89a6-0c566f79fb79",
   "metadata": {},
   "outputs": [
    {
     "ename": "TypeError",
     "evalue": "unsupported operand type(s) for -: 'str' and 'str'",
     "output_type": "error",
     "traceback": [
      "\u001b[1;31m---------------------------------------------------------------------------\u001b[0m",
      "\u001b[1;31mTypeError\u001b[0m                                 Traceback (most recent call last)",
      "Cell \u001b[1;32mIn[29], line 1\u001b[0m\n\u001b[1;32m----> 1\u001b[0m days \u001b[38;5;241m=\u001b[39m \u001b[43mdate_range_beg\u001b[49m\u001b[43m \u001b[49m\u001b[38;5;241;43m-\u001b[39;49m\u001b[43m \u001b[49m\u001b[43mdate_range_end\u001b[49m\n",
      "\u001b[1;31mTypeError\u001b[0m: unsupported operand type(s) for -: 'str' and 'str'"
     ]
    }
   ],
   "source": [
    "days = date_range_beg - date_range_end"
   ]
  },
  {
   "cell_type": "code",
   "execution_count": 43,
   "id": "14ead826-5603-4407-bd4c-02741367776a",
   "metadata": {},
   "outputs": [
    {
     "data": {
      "text/plain": [
       "['2025-01-01', '00:00:00']"
      ]
     },
     "execution_count": 43,
     "metadata": {},
     "output_type": "execute_result"
    }
   ],
   "source": [
    "date_range_beg"
   ]
  }
 ],
 "metadata": {
  "kernelspec": {
   "display_name": "Python 3 (ipykernel)",
   "language": "python",
   "name": "python3"
  },
  "language_info": {
   "codemirror_mode": {
    "name": "ipython",
    "version": 3
   },
   "file_extension": ".py",
   "mimetype": "text/x-python",
   "name": "python",
   "nbconvert_exporter": "python",
   "pygments_lexer": "ipython3",
   "version": "3.8.0"
  }
 },
 "nbformat": 4,
 "nbformat_minor": 5
}
